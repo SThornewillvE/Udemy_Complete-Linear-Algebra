{
 "cells": [
  {
   "cell_type": "markdown",
   "metadata": {},
   "source": [
    "# Orthogonal Matrices\n",
    "\n",
    "Using the last notebook as a base, we can start thinking of orthogonal matrices.\n",
    "\n",
    "We can take these two vectors and create an orthogonal matrix (denoted by Q):"
   ]
  },
  {
   "cell_type": "code",
   "execution_count": 1,
   "metadata": {},
   "outputs": [
    {
     "data": {
      "text/plain": [
       "matrix([[ 0.66666667,  0.33333333],\n",
       "        [-0.66666667,  0.66666667],\n",
       "        [ 0.33333333,  0.66666667]])"
      ]
     },
     "execution_count": 1,
     "metadata": {},
     "output_type": "execute_result"
    }
   ],
   "source": [
    "import numpy as np\n",
    "\n",
    "# Create orthogonal matrix\n",
    "Q = 1/3*np.matrix(\"2 1; -2 2; 1 2\")\n",
    "\n",
    "Q"
   ]
  },
  {
   "cell_type": "markdown",
   "metadata": {},
   "source": [
    "Since the basis of the column space of $Q$ are orthogonal, the dot products between the columns and the rows of $Q^T$ will either be 1 or 0, either parallel to itself or orthogonal to itself.\n",
    "\n",
    "Thus, if we calculate $Q^TQ$ then we will always get I"
   ]
  },
  {
   "cell_type": "code",
   "execution_count": 2,
   "metadata": {},
   "outputs": [
    {
     "data": {
      "text/plain": [
       "matrix([[1.00000000e+00, 1.54197642e-17],\n",
       "        [1.54197642e-17, 1.00000000e+00]])"
      ]
     },
     "execution_count": 2,
     "metadata": {},
     "output_type": "execute_result"
    }
   ],
   "source": [
    "Q.T.dot(Q)"
   ]
  },
  {
   "cell_type": "markdown",
   "metadata": {},
   "source": [
    "Note that, once again, the computer has a difficult time expressing 0 and so it shows very small numbers on the off.diagonal\n",
    "\n",
    "The fact that $Q^TQ = I$ is very useful when doing proofs and other such matrix algebra. "
   ]
  },
  {
   "cell_type": "markdown",
   "metadata": {},
   "source": [
    "## Graham Scmidt\n",
    "\n",
    "The difficulty now is creating an orthogonal matrix from any matrix. Once again, we turn to the column space to find our set of vectors that we will orthogonalise.\n",
    "\n",
    "We turn the 1st vector into a unit vector and turn c2 into a unit vector perpendicular to c1 and so on until all vectors are othogonal.\n",
    "\n",
    "Note that by doing this, we lose information about the matrix, since the original can't be reconstructed from the orthogonalised matrix alone.\n",
    "\n",
    "This algorithm is a little tedious and instead is done though QR decomposition.\n",
    "\n",
    "## QR Decomposition\n",
    "\n",
    "When thinking of QR recompostion we want to decompose matrix A into its orthogonal matrix (Q) and the rest of the information stored inside of R. Thus;\n",
    "\n",
    "$$A = QR$$\n",
    "\n",
    "It's clear enough how to get Q through Graham Schmidt, but how do we find R? \n",
    "\n",
    "$$A = QR$$\n",
    "$$Q^TA = Q^TQR$$\n",
    "$$Q^TA = R$$\n",
    "\n",
    "Note that it is very easy to compute the transpose, so it's pretty easy to compute R"
   ]
  },
  {
   "cell_type": "code",
   "execution_count": 3,
   "metadata": {},
   "outputs": [
    {
     "data": {
      "text/plain": [
       "matrix([[1, 2, 3],\n",
       "        [2, 2, 3],\n",
       "        [4, 5, 6]])"
      ]
     },
     "execution_count": 3,
     "metadata": {},
     "output_type": "execute_result"
    }
   ],
   "source": [
    "A = np.matrix(\"1 2 3; 2 2 3; 4 5 6\")\n",
    "\n",
    "A"
   ]
  },
  {
   "cell_type": "code",
   "execution_count": 4,
   "metadata": {},
   "outputs": [
    {
     "data": {
      "text/plain": [
       "(matrix([[-0.21821789,  0.8468098 , -0.48507125],\n",
       "         [-0.43643578, -0.52925612, -0.72760688],\n",
       "         [-0.87287156,  0.05292561,  0.48507125]]),\n",
       " matrix([[-4.58257569, -5.67366515, -7.20119038],\n",
       "         [ 0.        ,  0.89973541,  1.2702147 ],\n",
       "         [ 0.        ,  0.        , -0.72760688]]))"
      ]
     },
     "execution_count": 4,
     "metadata": {},
     "output_type": "execute_result"
    }
   ],
   "source": [
    "Q, R = np.linalg.qr(A)\n",
    "\n",
    "Q, R"
   ]
  },
  {
   "cell_type": "code",
   "execution_count": 5,
   "metadata": {},
   "outputs": [
    {
     "data": {
      "text/plain": [
       "matrix([[-4.58257569e+00, -5.67366515e+00, -7.20119038e+00],\n",
       "        [-1.22124533e-15,  8.99735411e-01,  1.27021470e+00],\n",
       "        [ 2.22044605e-16,  5.55111512e-17, -7.27606875e-01]])"
      ]
     },
     "execution_count": 5,
     "metadata": {},
     "output_type": "execute_result"
    }
   ],
   "source": [
    "# Using the dot product here is actually less accurate!\n",
    "(Q.T).dot(A)"
   ]
  }
 ],
 "metadata": {
  "kernelspec": {
   "display_name": "Python 3",
   "language": "python",
   "name": "python3"
  },
  "language_info": {
   "codemirror_mode": {
    "name": "ipython",
    "version": 3
   },
   "file_extension": ".py",
   "mimetype": "text/x-python",
   "name": "python",
   "nbconvert_exporter": "python",
   "pygments_lexer": "ipython3",
   "version": "3.7.2"
  }
 },
 "nbformat": 4,
 "nbformat_minor": 2
}
