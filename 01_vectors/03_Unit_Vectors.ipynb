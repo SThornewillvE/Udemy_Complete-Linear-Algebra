{
 "cells": [
  {
   "cell_type": "markdown",
   "metadata": {},
   "source": [
    "# Unit Vectors\n",
    "\n",
    "A unit vector is a speical type of vector that has a magnitude of 1. \n",
    "\n",
    "\n",
    "Useful because they are necessary to understanding basis vectors in a later section."
   ]
  },
  {
   "cell_type": "code",
   "execution_count": 1,
   "metadata": {},
   "outputs": [],
   "source": [
    "# Import numpy\n",
    "import numpy as np"
   ]
  },
  {
   "cell_type": "code",
   "execution_count": 2,
   "metadata": {},
   "outputs": [
    {
     "data": {
      "text/plain": [
       "array([15, 98])"
      ]
     },
     "execution_count": 2,
     "metadata": {},
     "output_type": "execute_result"
    }
   ],
   "source": [
    "# Create a random vector\n",
    "v = np.random.randint(0, 100, 2)\n",
    "\n",
    "v"
   ]
  },
  {
   "cell_type": "markdown",
   "metadata": {},
   "source": [
    "Now that we have created a random vector, let's check that if it is a unit vector:"
   ]
  },
  {
   "cell_type": "code",
   "execution_count": 7,
   "metadata": {},
   "outputs": [],
   "source": [
    "def unit_vec_chec(v):\n",
    "    \"\"\"\n",
    "    Checks if vector v is a unit vector.\n",
    "    \n",
    "    If not a unit vector, returns actual unit vector.\n",
    "    \n",
    "    If the vector is the zero-vector, returns NaN.\n",
    "    \n",
    "    :return: unit_v\n",
    "    \"\"\"\n",
    "    \n",
    "    v_len = np.linalg.norm(v)\n",
    "    \n",
    "    if v_len == 1:\n",
    "        print(\"Vector is a unit vector\")\n",
    "        return v\n",
    "    elif v_len == 0:\n",
    "        print(\"Vector is the zero vector\")\n",
    "        return np.NaN\n",
    "    else:\n",
    "        print(\"Vector is not a unit vector\")\n",
    "        return v/v_len\n",
    "    \n",
    "    "
   ]
  },
  {
   "cell_type": "code",
   "execution_count": 8,
   "metadata": {},
   "outputs": [
    {
     "name": "stdout",
     "output_type": "stream",
     "text": [
      "Vector is not a unit vector\n"
     ]
    },
    {
     "data": {
      "text/plain": [
       "array([ 0.15129919,  0.98848802])"
      ]
     },
     "execution_count": 8,
     "metadata": {},
     "output_type": "execute_result"
    }
   ],
   "source": [
    "# Check if our random vector is a unit vector\n",
    "unit_vec_chec(v)"
   ]
  },
  {
   "cell_type": "code",
   "execution_count": 9,
   "metadata": {},
   "outputs": [
    {
     "name": "stdout",
     "output_type": "stream",
     "text": [
      "Vector is the zero vector\n"
     ]
    },
    {
     "data": {
      "text/plain": [
       "nan"
      ]
     },
     "execution_count": 9,
     "metadata": {},
     "output_type": "execute_result"
    }
   ],
   "source": [
    "# Check if the null vector is a unit vector\n",
    "unit_vec_chec(np.array([0, 0, 0]))"
   ]
  },
  {
   "cell_type": "code",
   "execution_count": 10,
   "metadata": {},
   "outputs": [
    {
     "name": "stdout",
     "output_type": "stream",
     "text": [
      "Vector is a unit vector\n"
     ]
    },
    {
     "data": {
      "text/plain": [
       "array([1, 0])"
      ]
     },
     "execution_count": 10,
     "metadata": {},
     "output_type": "execute_result"
    }
   ],
   "source": [
    "# Check if unit vector is a unit vector\n",
    "unit_vec_chec(np.array([1, 0]))"
   ]
  }
 ],
 "metadata": {
  "kernelspec": {
   "display_name": "Python 3",
   "language": "python",
   "name": "python3"
  },
  "language_info": {
   "codemirror_mode": {
    "name": "ipython",
    "version": 3
   },
   "file_extension": ".py",
   "mimetype": "text/x-python",
   "name": "python",
   "nbconvert_exporter": "python",
   "pygments_lexer": "ipython3",
   "version": "3.6.6"
  }
 },
 "nbformat": 4,
 "nbformat_minor": 2
}
