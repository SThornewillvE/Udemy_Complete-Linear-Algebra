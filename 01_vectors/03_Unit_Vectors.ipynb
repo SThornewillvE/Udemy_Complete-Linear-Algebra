{
 "cells": [
  {
   "cell_type": "markdown",
   "metadata": {},
   "source": [
    "# Unit Vectors\n",
    "\n",
    "A unit vector is a speical type of vector that has a magnitude of 1. \n",
    "\n",
    "\n",
    "Useful because they are necessary to understanding basis vectors in a later section."
   ]
  },
  {
   "cell_type": "code",
   "execution_count": 1,
   "metadata": {},
   "outputs": [],
   "source": [
    "# Import numpy\n",
    "import numpy as np"
   ]
  },
  {
   "cell_type": "code",
   "execution_count": 2,
   "metadata": {},
   "outputs": [
    {
     "data": {
      "text/plain": [
       "array([79, 84])"
      ]
     },
     "execution_count": 2,
     "metadata": {},
     "output_type": "execute_result"
    }
   ],
   "source": [
    "# Create a random vector\n",
    "v = np.random.randint(0, 100, 2)\n",
    "\n",
    "v"
   ]
  },
  {
   "cell_type": "markdown",
   "metadata": {},
   "source": [
    "Now that we have created a random vector, let's check that if it is a unit vector:"
   ]
  },
  {
   "cell_type": "code",
   "execution_count": 3,
   "metadata": {},
   "outputs": [],
   "source": [
    "def unit_vec_chec(v):\n",
    "    \"\"\"\n",
    "    Checks if vector v is a unit vector.\n",
    "    \n",
    "    If not a unit vector, returns actual unit vector.\n",
    "    \n",
    "    If the vector is the zero-vector, returns NaN.\n",
    "    \n",
    "    :return: unit_v\n",
    "    \"\"\"\n",
    "    \n",
    "    v_len = np.linalg.norm(v)\n",
    "    \n",
    "    if v_len == 1:\n",
    "        print(\"Vector is a unit vector\")\n",
    "        return v\n",
    "    elif v_len == 0:\n",
    "        print(\"Vector is the zero vector\")\n",
    "        return np.NaN\n",
    "    else:\n",
    "        print(\"Vector is not a unit vector\")\n",
    "        return v/v_len\n",
    "    \n",
    "    "
   ]
  },
  {
   "cell_type": "code",
   "execution_count": 4,
   "metadata": {},
   "outputs": [
    {
     "name": "stdout",
     "output_type": "stream",
     "text": [
      "Vector is not a unit vector\n"
     ]
    },
    {
     "data": {
      "text/plain": [
       "array([0.68509415, 0.72845454])"
      ]
     },
     "execution_count": 4,
     "metadata": {},
     "output_type": "execute_result"
    }
   ],
   "source": [
    "# Check if our random vector is a unit vector\n",
    "unit_vec_chec(v)"
   ]
  },
  {
   "cell_type": "code",
   "execution_count": 5,
   "metadata": {},
   "outputs": [
    {
     "name": "stdout",
     "output_type": "stream",
     "text": [
      "Vector is the zero vector\n"
     ]
    },
    {
     "data": {
      "text/plain": [
       "nan"
      ]
     },
     "execution_count": 5,
     "metadata": {},
     "output_type": "execute_result"
    }
   ],
   "source": [
    "# Check if the null vector is a unit vector\n",
    "unit_vec_chec(np.array([0, 0, 0]))"
   ]
  },
  {
   "cell_type": "code",
   "execution_count": 6,
   "metadata": {},
   "outputs": [
    {
     "name": "stdout",
     "output_type": "stream",
     "text": [
      "Vector is a unit vector\n"
     ]
    },
    {
     "data": {
      "text/plain": [
       "array([1, 0])"
      ]
     },
     "execution_count": 6,
     "metadata": {},
     "output_type": "execute_result"
    }
   ],
   "source": [
    "# Check if unit vector is a unit vector\n",
    "unit_vec_chec(np.array([1, 0]))"
   ]
  },
  {
   "cell_type": "markdown",
   "metadata": {},
   "source": [
    "## Unit vector challenge\n",
    "\n",
    "Investigate dot products with unit vectors\n",
    "\n",
    "1. Create two random integer vectors with the same dimension\n",
    "2. Compute their magnitudes\n",
    "3. Compute magnituded of the dot-product\n",
    "4. Normalize the vectors\n",
    "5. Compute Magnitude of the dot product"
   ]
  },
  {
   "cell_type": "code",
   "execution_count": 7,
   "metadata": {},
   "outputs": [
    {
     "data": {
      "text/plain": [
       "(array([79, 84]), array([28, 20]))"
      ]
     },
     "execution_count": 7,
     "metadata": {},
     "output_type": "execute_result"
    }
   ],
   "source": [
    "# We already have our random integer vector v, so we'll just create another one\n",
    "w= np.random.randint(0, 100, 2)\n",
    "\n",
    "v, w"
   ]
  },
  {
   "cell_type": "code",
   "execution_count": 8,
   "metadata": {},
   "outputs": [
    {
     "data": {
      "text/plain": [
       "(115.31261856362468, 34.40930106817051)"
      ]
     },
     "execution_count": 8,
     "metadata": {},
     "output_type": "execute_result"
    }
   ],
   "source": [
    "# Compute their magnitudes\n",
    "np.linalg.norm(v), np.linalg.norm(w)"
   ]
  },
  {
   "cell_type": "code",
   "execution_count": 9,
   "metadata": {},
   "outputs": [
    {
     "data": {
      "text/plain": [
       "3892"
      ]
     },
     "execution_count": 9,
     "metadata": {},
     "output_type": "execute_result"
    }
   ],
   "source": [
    "# Compute their dot product\n",
    "v.dot(w)"
   ]
  },
  {
   "cell_type": "code",
   "execution_count": 13,
   "metadata": {},
   "outputs": [
    {
     "name": "stdout",
     "output_type": "stream",
     "text": [
      "Vector is not a unit vector\n",
      "Vector is not a unit vector\n"
     ]
    },
    {
     "data": {
      "text/plain": [
       "(array([0.68509415, 0.72845454]), array([0.81373347, 0.58123819]))"
      ]
     },
     "execution_count": 13,
     "metadata": {},
     "output_type": "execute_result"
    }
   ],
   "source": [
    "v_unit = unit_vec_chec(v)\n",
    "w_unit = unit_vec_chec(w)\n",
    "\n",
    "v_unit, w_unit"
   ]
  },
  {
   "cell_type": "code",
   "execution_count": 14,
   "metadata": {},
   "outputs": [
    {
     "data": {
      "text/plain": [
       "0.9808896364219445"
      ]
     },
     "execution_count": 14,
     "metadata": {},
     "output_type": "execute_result"
    }
   ],
   "source": [
    "v_unit.dot(w_unit)"
   ]
  },
  {
   "cell_type": "markdown",
   "metadata": {},
   "source": [
    "We can see that the magnitude of the dot product has decreased dramatically. This is because of what the dot product represents:\n",
    "\n",
    "$$\\alpha = |v||w|cos(\\theta)$$\n",
    "\n",
    "This, with unit vectors $|v|$ and $|w|$ are equal to one and so the dot product is just the cosine of the angle between the two vectors."
   ]
  }
 ],
 "metadata": {
  "kernelspec": {
   "display_name": "Python 3",
   "language": "python",
   "name": "python3"
  },
  "language_info": {
   "codemirror_mode": {
    "name": "ipython",
    "version": 3
   },
   "file_extension": ".py",
   "mimetype": "text/x-python",
   "name": "python",
   "nbconvert_exporter": "python",
   "pygments_lexer": "ipython3",
   "version": "3.6.6"
  }
 },
 "nbformat": 4,
 "nbformat_minor": 2
}
