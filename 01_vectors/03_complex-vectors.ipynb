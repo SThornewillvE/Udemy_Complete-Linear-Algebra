{
 "cells": [
  {
   "cell_type": "markdown",
   "metadata": {},
   "source": [
    "# Complex vectors\n",
    "\n",
    "We've seen vectors using real numbers so far, but you can also use complex numbers.\n",
    "\n",
    "Instead of the letter `i` as used to denote imaginary numbers in normal mathemtatical notation, the letter `j` is used in python instead."
   ]
  },
  {
   "cell_type": "code",
   "execution_count": 9,
   "metadata": {},
   "outputs": [],
   "source": [
    "import numpy as np"
   ]
  },
  {
   "cell_type": "code",
   "execution_count": 7,
   "metadata": {},
   "outputs": [
    {
     "data": {
      "text/plain": [
       "(-1+0j)"
      ]
     },
     "execution_count": 7,
     "metadata": {},
     "output_type": "execute_result"
    }
   ],
   "source": [
    "# Note that j^2 is -1\n",
    "1j**2"
   ]
  },
  {
   "cell_type": "markdown",
   "metadata": {},
   "source": [
    "Multiplying two complex numbers results in a kind of quadratic expression:\n",
    "\n",
    "$$(a + bi)(c + di) = ac + bci + adi - bd$$\n",
    "\n",
    "We can see this by generating two vectors and multiplying them together:\n",
    "\n",
    "$$(2 + 3i)(3 + 4i) = -6 + 17i$$"
   ]
  },
  {
   "cell_type": "code",
   "execution_count": 8,
   "metadata": {},
   "outputs": [
    {
     "data": {
      "text/plain": [
       "(-6+17j)"
      ]
     },
     "execution_count": 8,
     "metadata": {},
     "output_type": "execute_result"
    }
   ],
   "source": [
    "# Proof that the above statement is true\n",
    "(2 + 3j) * (3 + 4j)"
   ]
  },
  {
   "cell_type": "markdown",
   "metadata": {},
   "source": [
    "## Taking the complex conjugate\n",
    "\n",
    "The complex conjugate of a complex number is equal to the same real component with the opposite sign imaginary component:\n",
    "\n",
    "$$c.conj(2 + 3i) = (2 - 3i)$$"
   ]
  },
  {
   "cell_type": "code",
   "execution_count": 10,
   "metadata": {},
   "outputs": [
    {
     "data": {
      "text/plain": [
       "(2-3j)"
      ]
     },
     "execution_count": 10,
     "metadata": {},
     "output_type": "execute_result"
    }
   ],
   "source": [
    "# This can be done with numpy like so:\n",
    "np.conj(2 + 3j)"
   ]
  },
  {
   "cell_type": "markdown",
   "metadata": {},
   "source": [
    "## Hermetian Tanspose\n",
    "\n",
    "Knowing how to calculate the complex conjugate is important because otherwise the dot product doesn't work as it should for complex numbers.\n",
    "\n",
    "The hermetian transpose of a vector is when you transpose the vector (obviously) and then take the complex conjugate for each imaginary component in the vector.\n",
    "\n",
    "$$\\begin{bmatrix}\n",
    "           2 + 3i \\\\\n",
    "           -2i \\\\\n",
    "           5 \\\\\n",
    "           -2\n",
    "         \\end{bmatrix}^H  = \n",
    "         \\begin{bmatrix} 2 - 3i & 2i & 5 & -2 \\end{bmatrix} $$\n",
    "         \n",
    "Note that if we don't do this, then dot product calculations cease to work. If we have a vector $[3 + 4j]$ then we should note that the length of this vector is 5."
   ]
  },
  {
   "cell_type": "code",
   "execution_count": 19,
   "metadata": {},
   "outputs": [
    {
     "data": {
      "text/plain": [
       "2.6457513110645907j"
      ]
     },
     "execution_count": 19,
     "metadata": {},
     "output_type": "execute_result"
    }
   ],
   "source": [
    "# That said, if we try and calculate it without taking the complex conjugate\n",
    "vec = np.array([3, 4j])\n",
    "\n",
    "# The result doesnt make any sense\n",
    "np.sqrt(vec.dot(vec))"
   ]
  },
  {
   "cell_type": "code",
   "execution_count": 18,
   "metadata": {},
   "outputs": [
    {
     "data": {
      "text/plain": [
       "(5+0j)"
      ]
     },
     "execution_count": 18,
     "metadata": {},
     "output_type": "execute_result"
    }
   ],
   "source": [
    "# But if we take the conjugate and then perform the dot product the right answer falls out\n",
    "np.sqrt(vec.conj().dot(vec))"
   ]
  }
 ],
 "metadata": {
  "kernelspec": {
   "display_name": "Python 3",
   "language": "python",
   "name": "python3"
  },
  "language_info": {
   "codemirror_mode": {
    "name": "ipython",
    "version": 3
   },
   "file_extension": ".py",
   "mimetype": "text/x-python",
   "name": "python",
   "nbconvert_exporter": "python",
   "pygments_lexer": "ipython3",
   "version": "3.6.6"
  }
 },
 "nbformat": 4,
 "nbformat_minor": 2
}
