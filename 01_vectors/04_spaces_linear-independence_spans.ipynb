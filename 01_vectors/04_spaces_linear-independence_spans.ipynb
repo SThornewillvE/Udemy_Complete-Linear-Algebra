{
 "cells": [
  {
   "cell_type": "markdown",
   "metadata": {},
   "source": [
    "# Spaces Linear Independene and Spans\n",
    "\n",
    "Now, we want to think of some more general concepts for linear algebra that will come in handy later.\n",
    "\n",
    "We already discussed how a dimension of a vector is equal to the number of components that is used to describe it. "
   ]
  },
  {
   "cell_type": "markdown",
   "metadata": {},
   "source": [
    "## Subspaces\n",
    "\n",
    "Subspaces are sets of vectors that can be created by multiplying a set of vectors by some scalar ($\\lambda$).\n",
    "\n",
    "If we have a single vector, then the line of vectors that can be created by multiplying this vector by any scalar is within that space. (Including the zero-vector, the origin, by multiplying by 0.)"
   ]
  },
  {
   "cell_type": "markdown",
   "metadata": {},
   "source": [
    "## Subsets\n",
    "\n",
    "Subsets are sets of vectors or points that satisfy some conditions. Note that subspaces are a subset that enjoy certain additional properties. (Contains origin, multiplying by any scalar wont take you outside of that subspace, etc.)"
   ]
  },
  {
   "cell_type": "markdown",
   "metadata": {},
   "source": [
    "## Span\n",
    "\n",
    "A set of all vectors that can be made from a set of \"basis\" vectors."
   ]
  },
  {
   "cell_type": "markdown",
   "metadata": {},
   "source": [
    "## Linear Independence\n",
    "\n",
    "Linear independance describes the amount of redundancy in a set of vectors used to describe a space. If two or more vectors are linearly dependant (i.e. redundant) then it has implications that will become clear later in the course."
   ]
  },
  {
   "cell_type": "markdown",
   "metadata": {},
   "source": [
    "## Basis\n",
    "\n",
    "The vectors that are used to describe a space. Normally it will be a vector that has a value of 1 for each component and zero for other components, for each component. \n",
    "\n",
    "That being said, basis vectors can change in order to express information more efficiently (or not).\n",
    "\n",
    "One rule, basis vectors must be linearly independent or else points will be able to be expressed by a set of infinite linear combinations of the basis vectors. It must be the case that each point can only be described using one linear combination of vectors."
   ]
  }
 ],
 "metadata": {
  "kernelspec": {
   "display_name": "Python 3",
   "language": "python",
   "name": "python3"
  },
  "language_info": {
   "codemirror_mode": {
    "name": "ipython",
    "version": 3
   },
   "file_extension": ".py",
   "mimetype": "text/x-python",
   "name": "python",
   "nbconvert_exporter": "python",
   "pygments_lexer": "ipython3",
   "version": "3.6.6"
  }
 },
 "nbformat": 4,
 "nbformat_minor": 2
}
