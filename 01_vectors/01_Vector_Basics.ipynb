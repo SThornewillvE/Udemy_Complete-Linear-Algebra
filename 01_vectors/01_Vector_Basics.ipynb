{
 "cells": [
  {
   "cell_type": "markdown",
   "metadata": {},
   "source": [
    "# Section 1: Vectors"
   ]
  },
  {
   "cell_type": "code",
   "execution_count": 2,
   "metadata": {},
   "outputs": [],
   "source": [
    "import numpy as np\n",
    "import matplotlib.pyplot as plt\n",
    "\n",
    "plt.style.use(\"seaborn\")"
   ]
  },
  {
   "cell_type": "markdown",
   "metadata": {},
   "source": [
    "A vector can have multiple interpretations. Either as a list of numbers or as a line in some space with length and direction.\n",
    "\n",
    "Note how the order matters as shown below."
   ]
  },
  {
   "cell_type": "code",
   "execution_count": 11,
   "metadata": {},
   "outputs": [
    {
     "name": "stdout",
     "output_type": "stream",
     "text": [
      "Vectors a and b are not equal.\n"
     ]
    }
   ],
   "source": [
    "a = np.array([2, 1])\n",
    "\n",
    "b = np.array([1, 2])\n",
    "\n",
    "try:\n",
    "    assert np.array_equal(a, b)\n",
    "except AssertionError:\n",
    "    print(\"Vectors a and b are not equal.\")"
   ]
  },
  {
   "cell_type": "markdown",
   "metadata": {},
   "source": [
    "Here, I don't do a lot of graphing because I already understand these kinds of basics and it's not very easy to plot vectors in matplotlib.\n",
    "\n",
    "## Vector Addition\n",
    "\n",
    "Note that you can add or subtract vectors as long as they occupy the same dimensionality."
   ]
  },
  {
   "cell_type": "code",
   "execution_count": 25,
   "metadata": {},
   "outputs": [
    {
     "data": {
      "text/plain": [
       "array([3, 3])"
      ]
     },
     "execution_count": 25,
     "metadata": {},
     "output_type": "execute_result"
    }
   ],
   "source": [
    "a+b"
   ]
  },
  {
   "cell_type": "code",
   "execution_count": 26,
   "metadata": {},
   "outputs": [
    {
     "data": {
      "text/plain": [
       "array([ 1, -1])"
      ]
     },
     "execution_count": 26,
     "metadata": {},
     "output_type": "execute_result"
    }
   ],
   "source": [
    "a-b"
   ]
  },
  {
   "cell_type": "markdown",
   "metadata": {},
   "source": [
    "## Vector-Scalar Multiplication"
   ]
  },
  {
   "cell_type": "markdown",
   "metadata": {},
   "source": [
    "You can also multiply vectors with scalars (single numbers) by multiplying each component of a vector by the scalar."
   ]
  },
  {
   "cell_type": "code",
   "execution_count": 27,
   "metadata": {},
   "outputs": [
    {
     "data": {
      "text/plain": [
       "array([4, 2])"
      ]
     },
     "execution_count": 27,
     "metadata": {},
     "output_type": "execute_result"
    }
   ],
   "source": [
    "2*a"
   ]
  },
  {
   "cell_type": "markdown",
   "metadata": {},
   "source": [
    "Note that this idea can be used to create vector spaces later, where the space created by a vector is equal to the points that can be reached by multiplying by all scalar values."
   ]
  },
  {
   "cell_type": "markdown",
   "metadata": {},
   "source": [
    "## Dot Product\n",
    "\n",
    "The dot product is a very important concept in linear algebra and is best described as multiplying each dimension of a vector and summing all of the results.\n",
    "\n",
    "$$\\sum_{i=1}^{N}x_{i}y_{i}$$"
   ]
  },
  {
   "cell_type": "code",
   "execution_count": 31,
   "metadata": {},
   "outputs": [
    {
     "data": {
      "text/plain": [
       "4"
      ]
     },
     "execution_count": 31,
     "metadata": {},
     "output_type": "execute_result"
    }
   ],
   "source": [
    "# Dot product using for loops\n",
    "dot_prod = 0\n",
    "for i in range(len(a)):\n",
    "    dot_prod += a[i]*b[i]\n",
    "    \n",
    "dot_prod"
   ]
  },
  {
   "cell_type": "code",
   "execution_count": 29,
   "metadata": {},
   "outputs": [
    {
     "data": {
      "text/plain": [
       "4"
      ]
     },
     "execution_count": 29,
     "metadata": {},
     "output_type": "execute_result"
    }
   ],
   "source": [
    "# Dot product using numpy\n",
    "a.dot(b)"
   ]
  },
  {
   "cell_type": "markdown",
   "metadata": {},
   "source": [
    "## Vector Length\n",
    "\n",
    "Using the pythagorean theorem, we can also find the length of any vector\n",
    "\n",
    "$$c^2 = a^2 + b^2$$\n",
    "\n",
    "Though, an interesting thing to note is that the length of a vector is equal to the square root of the dot product with itself!"
   ]
  },
  {
   "cell_type": "code",
   "execution_count": 33,
   "metadata": {},
   "outputs": [
    {
     "data": {
      "text/plain": [
       "2.23606797749979"
      ]
     },
     "execution_count": 33,
     "metadata": {},
     "output_type": "execute_result"
    }
   ],
   "source": [
    "# Calculate length brute force\n",
    "length_a = 0\n",
    "for i in range(len(a)):\n",
    "    length_a += a[i]**2\n",
    "\n",
    "np.sqrt(length_a)"
   ]
  },
  {
   "cell_type": "code",
   "execution_count": 35,
   "metadata": {},
   "outputs": [
    {
     "data": {
      "text/plain": [
       "2.23606797749979"
      ]
     },
     "execution_count": 35,
     "metadata": {},
     "output_type": "execute_result"
    }
   ],
   "source": [
    "# Elegantly through numpy\n",
    "np.sqrt(a.dot(a))"
   ]
  },
  {
   "cell_type": "code",
   "execution_count": 36,
   "metadata": {},
   "outputs": [
    {
     "data": {
      "text/plain": [
       "2.23606797749979"
      ]
     },
     "execution_count": 36,
     "metadata": {},
     "output_type": "execute_result"
    }
   ],
   "source": [
    "# Using linalg\n",
    "np.linalg.norm(a)"
   ]
  },
  {
   "cell_type": "markdown",
   "metadata": {},
   "source": [
    "## Dot Product Geometry\n",
    "\n",
    "Now that we've taken the time to think about the dot product and vector lengths, we should think about what the dot product actually means.\n",
    "\n",
    "The dot product calculates a value which is a function of the angles between two vectors.\n",
    "\n",
    "$$\\alpha = |a||b|cos(\\theta_{a,b})$$\n",
    "\n",
    "We can derive this by thinking of the law of cosines (pythagorean theorem for all triangles)\n",
    "\n",
    "$$|a - b|^2 = |a-b|^T|a-b|$$\n",
    "$$... = a^Ta + b^Tb - 2a^Tb$$\n",
    "\n",
    "Note that this is possible because $a^Tb = b^Ta$.\n",
    "\n",
    "Thus, if the law of cosines is $|a-b|^2 = |a|^2 + |b|^2 - 2|a||b|cos(\\theta_{a,b})$...\n",
    "\n",
    "... Then the same law as above pops out!\n",
    "\n",
    "$$\\alpha = |a||b|cos(\\theta_{a,b})$$\n",
    "\n",
    "Given this, can we find the angles between our two vectors, a and b?"
   ]
  },
  {
   "cell_type": "code",
   "execution_count": 59,
   "metadata": {},
   "outputs": [
    {
     "data": {
      "text/plain": [
       "36.86991082919828"
      ]
     },
     "execution_count": 59,
     "metadata": {},
     "output_type": "execute_result"
    }
   ],
   "source": [
    "# Angle using numpy\n",
    "np.arccos(a.dot(b) / (np.linalg.norm(a)*np.linalg.norm(b))) * 57.2958  # Note that this calculation returns radians"
   ]
  },
  {
   "cell_type": "code",
   "execution_count": 54,
   "metadata": {},
   "outputs": [
    {
     "data": {
      "text/plain": [
       "1.5707963267948966"
      ]
     },
     "execution_count": 54,
     "metadata": {},
     "output_type": "execute_result"
    }
   ],
   "source": [
    "np.(0)"
   ]
  },
  {
   "cell_type": "code",
   "execution_count": 57,
   "metadata": {},
   "outputs": [
    {
     "data": {
      "text/plain": [
       "90.00003218077504"
      ]
     },
     "execution_count": 57,
     "metadata": {},
     "output_type": "execute_result"
    }
   ],
   "source": [
    "# These are orthogonal\n",
    "c, d = np.array([1,0]), np.array([0,1])\n",
    "\n",
    "np.arccos(c.dot(d) / (np.linalg.norm(c)*np.linalg.norm(d))) * 57.2958"
   ]
  },
  {
   "cell_type": "code",
   "execution_count": 58,
   "metadata": {},
   "outputs": [
    {
     "data": {
      "text/plain": [
       "0"
      ]
     },
     "execution_count": 58,
     "metadata": {},
     "output_type": "execute_result"
    }
   ],
   "source": [
    "# We can tell their orthogonal because of their dot product\n",
    "c.dot(d)"
   ]
  }
 ],
 "metadata": {
  "kernelspec": {
   "display_name": "Python 3",
   "language": "python",
   "name": "python3"
  },
  "language_info": {
   "codemirror_mode": {
    "name": "ipython",
    "version": 3
   },
   "file_extension": ".py",
   "mimetype": "text/x-python",
   "name": "python",
   "nbconvert_exporter": "python",
   "pygments_lexer": "ipython3",
   "version": "3.6.6"
  }
 },
 "nbformat": 4,
 "nbformat_minor": 2
}
