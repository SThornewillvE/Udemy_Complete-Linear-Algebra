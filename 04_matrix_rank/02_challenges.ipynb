{
 "cells": [
  {
   "cell_type": "markdown",
   "metadata": {},
   "source": [
    "# Challenges\n",
    "\n",
    "Now that we've learned a little bit about matrix rank, it's time to do some challenges."
   ]
  },
  {
   "cell_type": "code",
   "execution_count": 1,
   "metadata": {},
   "outputs": [],
   "source": [
    "import numpy as np"
   ]
  },
  {
   "cell_type": "markdown",
   "metadata": {},
   "source": [
    "## Challenge :  Reduced-Rank Matrix via Multiplication\n",
    "\n",
    "1. Create a 10x10 matrix with rank 4\n",
    "\n",
    "Create two random matrices, and multiply them together such that we get a 10x10 matrix with a rank of 4.\n",
    "\n",
    "1. First, we need to remember that $rank(AB) \\leq min(rank(A), rank(B))$\n",
    "2. If we multiply two matrices to get 10x10, they need to have dimensions 10xN, and Nx10. (Note that N must be the same number or the multiplication will fail.)\n",
    "3. What if we generate a matrix 10x4 and then multiply it by its transpose?\n"
   ]
  },
  {
   "cell_type": "code",
   "execution_count": 2,
   "metadata": {},
   "outputs": [
    {
     "data": {
      "text/plain": [
       "(array([[0.13775302, 0.89464813, 0.02958883, 0.28444156],\n",
       "        [0.04753019, 0.53709216, 0.33140344, 0.1595394 ],\n",
       "        [0.352461  , 0.23887765, 0.16698934, 0.82475297],\n",
       "        [0.71993272, 0.23094229, 0.56685519, 0.96515178],\n",
       "        [0.75901299, 0.77913509, 0.25867247, 0.59057479],\n",
       "        [0.79993657, 0.48489627, 0.18120488, 0.47439249],\n",
       "        [0.24680696, 0.48711854, 0.45844026, 0.41432023],\n",
       "        [0.53269397, 0.60174124, 0.35962109, 0.33139611],\n",
       "        [0.02549727, 0.07402649, 0.28407881, 0.05200419],\n",
       "        [0.17570274, 0.12721375, 0.73609531, 0.65431968]]), 4)"
      ]
     },
     "execution_count": 2,
     "metadata": {},
     "output_type": "execute_result"
    }
   ],
   "source": [
    "# Generate random 10x4 matrix\n",
    "A = np.random.rand(10, 4) \n",
    "\n",
    "A, np.linalg.matrix_rank(A)"
   ]
  },
  {
   "cell_type": "markdown",
   "metadata": {},
   "source": [
    "Note that it doesnt matter if our matrix is full rank because $AA^T$ will always be full rank"
   ]
  },
  {
   "cell_type": "code",
   "execution_count": 3,
   "metadata": {},
   "outputs": [
    {
     "data": {
      "text/plain": [
       "(10, 10)"
      ]
     },
     "execution_count": 3,
     "metadata": {},
     "output_type": "execute_result"
    }
   ],
   "source": [
    "B = A.dot(A.T)\n",
    "\n",
    "B.shape"
   ]
  },
  {
   "cell_type": "code",
   "execution_count": 4,
   "metadata": {},
   "outputs": [
    {
     "data": {
      "text/plain": [
       "4"
      ]
     },
     "execution_count": 4,
     "metadata": {},
     "output_type": "execute_result"
    }
   ],
   "source": [
    "np.linalg.matrix_rank(B)"
   ]
  },
  {
   "cell_type": "code",
   "execution_count": 5,
   "metadata": {},
   "outputs": [
    {
     "data": {
      "text/plain": [
       "array([[0.90115368, 0.54224141, 0.50179906, 0.59708686, 0.97724592,\n",
       "        0.6843038 , 0.6012127 , 0.71663048, 0.0929377 , 0.34591104],\n",
       "       [0.54224141, 0.42600817, 0.33197329, 0.50009333, 0.63448828,\n",
       "        0.43419134, 0.49138741, 0.52055995, 0.14341235, 0.42501098],\n",
       "       [0.50179906, 0.33197329, 0.88939419, 1.19958573, 0.9839143 ,\n",
       "        0.81929323, 0.62161804, 0.6648692 , 0.11699881, 0.75488905],\n",
       "       [0.59708686, 0.50009333, 1.19958573, 1.82448024, 1.44299767,\n",
       "        1.24846125, 0.94993183, 1.04617195, 0.24667565, 1.20465044],\n",
       "       [0.97724592, 0.63448828, 0.9839143 , 1.44299767, 1.59884223,\n",
       "        1.3119989 , 0.93013379, 1.16189762, 0.18122512, 0.80930965],\n",
       "       [0.6843038 , 0.43419134, 0.81929323, 1.24846125, 1.3119989 ,\n",
       "        1.13290635, 0.71325389, 0.94028039, 0.13243823, 0.64602493],\n",
       "       [0.6012127 , 0.49138741, 0.62161804, 0.94993183, 0.93013379,\n",
       "        0.71325389, 0.68002687, 0.72676079, 0.19413213, 0.71388644],\n",
       "       [0.71663048, 0.52055995, 0.6648692 , 1.04617195, 1.16189762,\n",
       "        0.94028039, 0.72676079, 0.8850061 , 0.17752175, 0.65169994],\n",
       "       [0.0929377 , 0.14341235, 0.11699881, 0.24667565, 0.18122512,\n",
       "        0.13243823, 0.19413213, 0.17752175, 0.08953524, 0.25703357],\n",
       "       [0.34591104, 0.42501098, 0.75488905, 1.20465044, 0.80930965,\n",
       "        0.64602493, 0.71388644, 0.65169994, 0.25703357, 1.01702533]])"
      ]
     },
     "execution_count": 5,
     "metadata": {},
     "output_type": "execute_result"
    }
   ],
   "source": [
    "B"
   ]
  },
  {
   "cell_type": "markdown",
   "metadata": {},
   "source": [
    "Success!\n",
    "\n",
    "Now that we have done this, we can write a function that will generate any random square matrix with rank N and dimentions MxM."
   ]
  },
  {
   "cell_type": "code",
   "execution_count": 6,
   "metadata": {},
   "outputs": [],
   "source": [
    "def generate_fullrank_matrix(rank, dim):\n",
    "    \"\"\"\n",
    "    Generates dim x dim matrix with specified rank.\n",
    "    \n",
    "    :returns: full rank square matrix\n",
    "    \"\"\"\n",
    "    \n",
    "    A = np.random.rand(dim, rank)\n",
    "    B = A.dot(A.T)\n",
    "    \n",
    "    return B\n",
    "    "
   ]
  },
  {
   "cell_type": "code",
   "execution_count": 7,
   "metadata": {},
   "outputs": [
    {
     "data": {
      "text/plain": [
       "array([[1.37866038, 0.63462142, 1.55467827, 1.04059418, 0.46745882,\n",
       "        1.18810625, 1.01584753, 1.11029588, 0.90414139, 1.13925127],\n",
       "       [0.63462142, 1.7538341 , 1.32410692, 1.79836697, 1.13454139,\n",
       "        1.05430669, 1.19723675, 1.25750071, 1.29099682, 1.21942526],\n",
       "       [1.55467827, 1.32410692, 2.08923938, 1.79968127, 1.01450098,\n",
       "        1.62036955, 1.53409048, 1.58046205, 1.26846024, 1.47126088],\n",
       "       [1.04059418, 1.79836697, 1.79968127, 2.13091222, 1.20031657,\n",
       "        1.45644466, 1.64815988, 1.67250655, 1.38712986, 1.30901106],\n",
       "       [0.46745882, 1.13454139, 1.01450098, 1.20031657, 0.94567565,\n",
       "        0.77395471, 0.77226437, 0.72964955, 0.68960889, 0.77291902],\n",
       "       [1.18810625, 1.05430669, 1.62036955, 1.45644466, 0.77395471,\n",
       "        1.27478014, 1.26425807, 1.29540242, 0.99627249, 1.09994996],\n",
       "       [1.01584753, 1.19723675, 1.53409048, 1.64815988, 0.77226437,\n",
       "        1.26425807, 1.44934595, 1.45915705, 1.02349638, 0.93773937],\n",
       "       [1.11029588, 1.25750071, 1.58046205, 1.67250655, 0.72964955,\n",
       "        1.29540242, 1.45915705, 1.53005604, 1.18903826, 1.10672535],\n",
       "       [0.90414139, 1.29099682, 1.26846024, 1.38712986, 0.68960889,\n",
       "        0.99627249, 1.02349638, 1.18903826, 1.28300262, 1.28391562],\n",
       "       [1.13925127, 1.21942526, 1.47126088, 1.30901106, 0.77291902,\n",
       "        1.09994996, 0.93773937, 1.10672535, 1.28391562, 1.48168446]])"
      ]
     },
     "execution_count": 7,
     "metadata": {},
     "output_type": "execute_result"
    }
   ],
   "source": [
    "generate_fullrank_matrix(4, 10)"
   ]
  },
  {
   "cell_type": "markdown",
   "metadata": {},
   "source": [
    "## Challenge 2: Scalar Multiplication and Rank\n",
    "\n",
    "Is the matrix rank dependant on scalar multiplication?\n",
    "\n",
    "My hypothesis is, no. This is because multiplying all vectors in a matrix will change nothing about whether that matrix has linearly dependent vectors. \n",
    "\n",
    "1. Create a random matrix\n",
    "2. Reduce the rank by making one column equal to another\n",
    "3. Multiply it by a scalar\n",
    "4. Check if the rank changes"
   ]
  },
  {
   "cell_type": "code",
   "execution_count": 8,
   "metadata": {},
   "outputs": [
    {
     "data": {
      "text/plain": [
       "((3, 3), 2)"
      ]
     },
     "execution_count": 8,
     "metadata": {},
     "output_type": "execute_result"
    }
   ],
   "source": [
    "# Create reduced rank matrix\n",
    "C = generate_fullrank_matrix(3, 3)\n",
    "C[:, 1] = C[:, 2]\n",
    "\n",
    "C.shape, np.linalg.matrix_rank(C)"
   ]
  },
  {
   "cell_type": "code",
   "execution_count": 9,
   "metadata": {},
   "outputs": [
    {
     "data": {
      "text/plain": [
       "2"
      ]
     },
     "execution_count": 9,
     "metadata": {},
     "output_type": "execute_result"
    }
   ],
   "source": [
    "# Multiply C by scalar\n",
    "D = np.random.rand(1,1) * C\n",
    "\n",
    "np.linalg.matrix_rank(D)"
   ]
  },
  {
   "cell_type": "markdown",
   "metadata": {},
   "source": [
    "We can see here that it did not effect the rank of the matrix."
   ]
  },
  {
   "cell_type": "markdown",
   "metadata": {},
   "source": [
    "## Challenge 3: Rank of Multiplied and Summed Matrices\n",
    "\n",
    "1. Create two matrices A and B, make them rectangular\n",
    "2. Create symmetric matrices from A and B\n",
    "3. Multiply them together in the fasion $(A^TA)(B^TB)$ and compute rank\n",
    "4. Compute tha rank of $A^TA + B^TB$"
   ]
  },
  {
   "cell_type": "code",
   "execution_count": 10,
   "metadata": {},
   "outputs": [
    {
     "data": {
      "text/plain": [
       "(array([[0.99187859, 0.15989086, 0.9473292 , 0.1287026 , 0.4899314 ],\n",
       "        [0.92597561, 0.15643875, 0.7487517 , 0.50370112, 0.84861966]]),\n",
       " array([[0.67555295, 0.82747311, 0.33309284, 0.49103094, 0.36080436],\n",
       "        [0.72587747, 0.15185194, 0.4881816 , 0.02552566, 0.94489421]]))"
      ]
     },
     "execution_count": 10,
     "metadata": {},
     "output_type": "execute_result"
    }
   ],
   "source": [
    "E = np.random.rand(2, 5)\n",
    "F = np.random.rand(2, 5)\n",
    "\n",
    "E, F"
   ]
  },
  {
   "cell_type": "code",
   "execution_count": 11,
   "metadata": {},
   "outputs": [
    {
     "data": {
      "text/plain": [
       "(2, 2)"
      ]
     },
     "execution_count": 11,
     "metadata": {},
     "output_type": "execute_result"
    }
   ],
   "source": [
    "Es = E.T.dot(E)\n",
    "Fs = F.T.dot(F)\n",
    "\n",
    "np.linalg.matrix_rank(Es), np.linalg.matrix_rank(Fs)"
   ]
  },
  {
   "cell_type": "code",
   "execution_count": 12,
   "metadata": {},
   "outputs": [
    {
     "data": {
      "text/plain": [
       "(5, 5)"
      ]
     },
     "execution_count": 12,
     "metadata": {},
     "output_type": "execute_result"
    }
   ],
   "source": [
    "Es.shape"
   ]
  },
  {
   "cell_type": "code",
   "execution_count": 13,
   "metadata": {},
   "outputs": [
    {
     "data": {
      "text/plain": [
       "array([[1.84125397, 0.30345079, 1.63296137, 0.59407231, 1.27175357],\n",
       "       [0.30345079, 0.05003817, 0.26860306, 0.09937674, 0.21109255],\n",
       "       [1.63296137, 0.26860306, 1.45806173, 0.4990708 , 1.09953174],\n",
       "       [0.59407231, 0.09937674, 0.4990708 , 0.27027918, 0.49050612],\n",
       "       [1.27175357, 0.21109255, 1.09953174, 0.49050612, 0.9601881 ]])"
      ]
     },
     "execution_count": 13,
     "metadata": {},
     "output_type": "execute_result"
    }
   ],
   "source": [
    "Es"
   ]
  },
  {
   "cell_type": "code",
   "execution_count": 14,
   "metadata": {},
   "outputs": [],
   "source": [
    "# Compare Rank"
   ]
  },
  {
   "cell_type": "code",
   "execution_count": 15,
   "metadata": {},
   "outputs": [
    {
     "data": {
      "text/plain": [
       "(2, 4)"
      ]
     },
     "execution_count": 15,
     "metadata": {},
     "output_type": "execute_result"
    }
   ],
   "source": [
    "np.linalg.matrix_rank(Es.dot(Fs)), np.linalg.matrix_rank(Es + Fs)"
   ]
  },
  {
   "cell_type": "markdown",
   "metadata": {},
   "source": [
    "We can see that the rank of these matrices are not the same and it has to do with the rules that were outlined during the lectures.\n",
    "\n",
    "This shows the linear pooling of information, adding two 5x5 matrices with rank 2 that were generated is highly likely to add information to this matrix such that the rank increases from 2 to 4.\n",
    "\n",
    "If we were to reverse the shape of the matrices E and F and do this operation then the ranks will result as 2 and 2. The reason for this is that we cant pool information beyond what the matrix can hold. (I.e. Es + Fs will be a 2x2 matrix and so the rank cannot be higher than 2.)"
   ]
  },
  {
   "cell_type": "markdown",
   "metadata": {},
   "source": [
    "## Challenge 4: Is this vector in the span of the set?\n",
    "\n",
    "Deter mine if this vector is in the span of these sets:\n",
    "\n",
    "$$v = \\begin{bmatrix} 1 \\\\ 2 \\\\ 3 \\\\ 4 \\end{bmatrix}$$\n",
    "\n",
    "$$S = \\{\\begin{bmatrix} 4 \\\\ 3 \\\\ 6 \\\\ 2 \\end{bmatrix}, \\begin{bmatrix} 0 \\\\ 4 \\\\ 0 \\\\ 1 \\end{bmatrix}\\}, \n",
    "T = \\{\\begin{bmatrix} 1 \\\\ 2 \\\\ 2 \\\\ 2 \\end{bmatrix}, \\begin{bmatrix} 0 \\\\ 0 \\\\ 1 \\\\ 2 \\end{bmatrix}\\}$$"
   ]
  },
  {
   "cell_type": "code",
   "execution_count": 16,
   "metadata": {},
   "outputs": [],
   "source": [
    "# Create vector v\n",
    "v = np.array([1, 2, 3, 4])\n",
    "\n",
    "# Create sets S and T\n",
    "S = [np.array([4, 3, 6, 2]), np.array([0, 4, 0, 1])]\n",
    "T = [np.array([1, 2, 2, 2]), np.array([0, 0, 1, 2])]"
   ]
  },
  {
   "cell_type": "markdown",
   "metadata": {},
   "source": [
    "Turn S and T into augmented matrices using v to augment matrices made from sets S and T\n",
    "\n",
    "We can then check the rank of the matrix, if the rank is 3 then v is linearly dependent. (Given the rank of the unaugmented matrix is 2.)"
   ]
  },
  {
   "cell_type": "code",
   "execution_count": 17,
   "metadata": {},
   "outputs": [
    {
     "name": "stdout",
     "output_type": "stream",
     "text": [
      "[[4 0 1]\n",
      " [3 4 2]\n",
      " [6 0 3]\n",
      " [2 1 4]]\n"
     ]
    }
   ],
   "source": [
    "# Concatenate vectors together into a matrix\n",
    "S.append(v)\n",
    "S = np.array(S).T\n",
    "\n",
    "T.append(v)\n",
    "T = np.array(T).T\n",
    "\n",
    "print(S)"
   ]
  },
  {
   "cell_type": "code",
   "execution_count": 18,
   "metadata": {},
   "outputs": [
    {
     "data": {
      "text/plain": [
       "(3, 2)"
      ]
     },
     "execution_count": 18,
     "metadata": {},
     "output_type": "execute_result"
    }
   ],
   "source": [
    "np.linalg.matrix_rank(S), np.linalg.matrix_rank(T)"
   ]
  },
  {
   "cell_type": "markdown",
   "metadata": {},
   "source": [
    "This is pretty cool! Seems that in the set S, the vector v is linearly independent causing the rank of the matrix to increase whereas for the set T it seems to be linearly dependentant. "
   ]
  }
 ],
 "metadata": {
  "kernelspec": {
   "display_name": "Python 3",
   "language": "python",
   "name": "python3"
  },
  "language_info": {
   "codemirror_mode": {
    "name": "ipython",
    "version": 3
   },
   "file_extension": ".py",
   "mimetype": "text/x-python",
   "name": "python",
   "nbconvert_exporter": "python",
   "pygments_lexer": "ipython3",
   "version": "3.7.2"
  }
 },
 "nbformat": 4,
 "nbformat_minor": 2
}
