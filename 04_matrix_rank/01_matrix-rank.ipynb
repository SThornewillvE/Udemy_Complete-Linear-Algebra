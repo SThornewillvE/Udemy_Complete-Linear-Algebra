{
 "cells": [
  {
   "cell_type": "markdown",
   "metadata": {},
   "source": [
    "# Matrix Rank\n",
    "\n",
    "This will be a short section on matrix rank.\n",
    "\n",
    "The rank of a matrix denotes the amount of informatin found within that matrix. It is usualy indicated by `r` and is a scalar that is always greater than zero.\n",
    "\n",
    "## How to compute rank\n",
    "\n",
    "1. Count the number of linearly independent columns\n",
    "2. Count number of pivots of `row reduced echelon form`\n",
    "3. Count non-singular values of the SVD\n",
    "4. Count non-zero eigenvalues for the eigendecomposition\n",
    "\n",
    "## Rank of added & multiplied matrices\n",
    "\n",
    "### Addition\n",
    "\n",
    "$$ rank(A + B) \\leq rank(A) + rank(B)$$\n",
    "\n",
    "We can see above that the rank of two matrices summed together cannot be higher than the rank of both matrices added together.\n",
    "\n",
    "This is because adding is a linear pooling of information, and that the rank cannot be higher than the higher of the shape of these matrices. (Since they must be the same in order to be summed together.)"
   ]
  },
  {
   "cell_type": "code",
   "execution_count": 1,
   "metadata": {},
   "outputs": [
    {
     "data": {
      "text/plain": [
       "(array([[0.89340112, 0.22827182, 0.80535778],\n",
       "        [0.96982488, 0.6228878 , 0.51562099],\n",
       "        [0.66159452, 0.45312645, 0.08179519]]), 3)"
      ]
     },
     "execution_count": 1,
     "metadata": {},
     "output_type": "execute_result"
    }
   ],
   "source": [
    "import numpy as np\n",
    "\n",
    "A = np.random.rand(3,3)\n",
    "\n",
    "A, np.linalg.matrix_rank(A)"
   ]
  },
  {
   "cell_type": "code",
   "execution_count": 2,
   "metadata": {},
   "outputs": [
    {
     "data": {
      "text/plain": [
       "(array([[0.13482742, 0.56880913, 0.6680569 ],\n",
       "        [0.10774578, 0.08389578, 0.69870325],\n",
       "        [0.76973461, 0.86245895, 0.52175897]]), 3)"
      ]
     },
     "execution_count": 2,
     "metadata": {},
     "output_type": "execute_result"
    }
   ],
   "source": [
    "B = np.random.rand(3,3)\n",
    "\n",
    "B, np.linalg.matrix_rank(B)"
   ]
  },
  {
   "cell_type": "markdown",
   "metadata": {},
   "source": [
    "We can calculate rank easily using numpy"
   ]
  },
  {
   "cell_type": "code",
   "execution_count": 3,
   "metadata": {},
   "outputs": [
    {
     "data": {
      "text/plain": [
       "3"
      ]
     },
     "execution_count": 3,
     "metadata": {},
     "output_type": "execute_result"
    }
   ],
   "source": [
    "np.linalg.matrix_rank(A + B)"
   ]
  },
  {
   "cell_type": "markdown",
   "metadata": {},
   "source": [
    "We can see here that adding two matrices of rank 3 results in another matrix of rank 3"
   ]
  },
  {
   "cell_type": "markdown",
   "metadata": {},
   "source": [
    "### Multiplication\n",
    "\n",
    "$$rank(AB) \\leq min(rank(A), rank(B))$$"
   ]
  },
  {
   "cell_type": "code",
   "execution_count": 4,
   "metadata": {},
   "outputs": [
    {
     "data": {
      "text/plain": [
       "(matrix([[1, 0, 0],\n",
       "         [1, 0, 0],\n",
       "         [1, 0, 0]]), 1)"
      ]
     },
     "execution_count": 4,
     "metadata": {},
     "output_type": "execute_result"
    }
   ],
   "source": [
    "C_rnk1 = np.matrix(\"1 0 0; 1 0 0; 1 0 0\")\n",
    "\n",
    "C_rnk1, np.linalg.matrix_rank(C_rnk1)"
   ]
  },
  {
   "cell_type": "code",
   "execution_count": 5,
   "metadata": {},
   "outputs": [
    {
     "data": {
      "text/plain": [
       "1"
      ]
     },
     "execution_count": 5,
     "metadata": {},
     "output_type": "execute_result"
    }
   ],
   "source": [
    "np.linalg.matrix_rank(A.dot(C_rnk1))"
   ]
  },
  {
   "cell_type": "markdown",
   "metadata": {},
   "source": [
    "We can also see that if we multiply two matrices together, then the rank cannot be higher than the lower rank of the two matrices."
   ]
  },
  {
   "cell_type": "markdown",
   "metadata": {},
   "source": [
    "## Rank of $A^TA$ and $AA^T$\n",
    "\n",
    "$$rank(A) = rank(A^TA) = rank(AA^T) = rank(A^T)$$\n",
    "\n",
    "This rule holds because the rank if not a property of either the column or the row spaces of a matrix but of the matrix itself. Note that this also means that if the dimensionality of the column space is less than the number of columns in a matrix, then the row space will also reflect that since have linearly dependent columns affects the rank.\n",
    "\n",
    "It's also worth noting that $A^TA$ and $AA^T$ will be full rank matrices, though if A is a rectangular matrix then their shapes will be of different sizes."
   ]
  },
  {
   "cell_type": "code",
   "execution_count": 6,
   "metadata": {},
   "outputs": [
    {
     "data": {
      "text/plain": [
       "3"
      ]
     },
     "execution_count": 6,
     "metadata": {},
     "output_type": "execute_result"
    }
   ],
   "source": [
    "np.linalg.matrix_rank(A)"
   ]
  },
  {
   "cell_type": "code",
   "execution_count": 7,
   "metadata": {},
   "outputs": [
    {
     "data": {
      "text/plain": [
       "3"
      ]
     },
     "execution_count": 7,
     "metadata": {},
     "output_type": "execute_result"
    }
   ],
   "source": [
    "np.linalg.matrix_rank(A.T)"
   ]
  },
  {
   "cell_type": "code",
   "execution_count": 8,
   "metadata": {},
   "outputs": [
    {
     "data": {
      "text/plain": [
       "3"
      ]
     },
     "execution_count": 8,
     "metadata": {},
     "output_type": "execute_result"
    }
   ],
   "source": [
    "np.linalg.matrix_rank(A.dot(A.T))"
   ]
  },
  {
   "cell_type": "code",
   "execution_count": 9,
   "metadata": {},
   "outputs": [
    {
     "data": {
      "text/plain": [
       "3"
      ]
     },
     "execution_count": 9,
     "metadata": {},
     "output_type": "execute_result"
    }
   ],
   "source": [
    "np.linalg.matrix_rank(A.T.dot(A))"
   ]
  },
  {
   "cell_type": "markdown",
   "metadata": {},
   "source": [
    "# Shifting in order to get full rank\n",
    "\n",
    "In order to take a matrix of a lower rank and to make it full rank again, we can add a small amount of information to it.\n",
    "\n",
    "$$\\hat{A} = A + \\lambda I$$\n",
    "\n",
    "Where I is the identity matrix and $\\lambda$ is a scaling factor. If we make the scaling factor very small then we can add very little information to obtain full rank. But we need to be careful of noise within the data, if we make this information too small then it will be indistinguisable from that.\n",
    "\n",
    "Note that depending on noise, it can also be difficult to determine a matrix's rank in the case that its eivenvalues are relatively small and things like that."
   ]
  },
  {
   "cell_type": "code",
   "execution_count": 10,
   "metadata": {},
   "outputs": [
    {
     "data": {
      "text/plain": [
       "(matrix([[1.001e+00, 0.000e+00, 0.000e+00],\n",
       "         [1.000e+00, 1.000e-03, 0.000e+00],\n",
       "         [1.000e+00, 0.000e+00, 1.000e-03]]), 3)"
      ]
     },
     "execution_count": 10,
     "metadata": {},
     "output_type": "execute_result"
    }
   ],
   "source": [
    "lambd = 0.001\n",
    "\n",
    "C_rnk1 + lambd * np.identity(3), np.linalg.matrix_rank(C_rnk1 + lambd * np.identity(3))"
   ]
  }
 ],
 "metadata": {
  "kernelspec": {
   "display_name": "Python 3",
   "language": "python",
   "name": "python3"
  },
  "language_info": {
   "codemirror_mode": {
    "name": "ipython",
    "version": 3
   },
   "file_extension": ".py",
   "mimetype": "text/x-python",
   "name": "python",
   "nbconvert_exporter": "python",
   "pygments_lexer": "ipython3",
   "version": "3.7.2"
  }
 },
 "nbformat": 4,
 "nbformat_minor": 2
}
