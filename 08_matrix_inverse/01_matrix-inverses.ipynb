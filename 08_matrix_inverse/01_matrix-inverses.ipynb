{
 "cells": [
  {
   "cell_type": "markdown",
   "metadata": {},
   "source": [
    "# Matrix Inverses\n",
    "\n",
    "When given equations like the ones below, we need to solve for x.\n",
    "\n",
    "$$3x = 1$$\n",
    "\n",
    "We can find x by multiplying it and the RHS of the equation by the inverse of 3, $3^{-1}$.\n",
    "\n",
    "$$3^{-1}\\times3x = x = 3^{-1}\\times1 = \\frac{1}{3}$$\n",
    "\n",
    "If we consider this on the number line, 3 stretches the number line that x is on. My multiplying it by the inverse of 3, we undo that stretching.\n",
    "\n",
    "The same logic applies when calculating the inverse of a matrix. We want to undo the rotation and stretching operations that it performs."
   ]
  },
  {
   "cell_type": "code",
   "execution_count": 1,
   "metadata": {},
   "outputs": [],
   "source": [
    "import numpy as np"
   ]
  },
  {
   "cell_type": "code",
   "execution_count": 2,
   "metadata": {},
   "outputs": [
    {
     "data": {
      "text/plain": [
       "3"
      ]
     },
     "execution_count": 2,
     "metadata": {},
     "output_type": "execute_result"
    }
   ],
   "source": [
    "A = np.matrix(\"1 2 3; 4 5 6; 6 6 7\")\n",
    "\n",
    "np.linalg.matrix_rank(A)"
   ]
  },
  {
   "cell_type": "code",
   "execution_count": 3,
   "metadata": {},
   "outputs": [
    {
     "data": {
      "text/plain": [
       "array([1, 2, 3])"
      ]
     },
     "execution_count": 3,
     "metadata": {},
     "output_type": "execute_result"
    }
   ],
   "source": [
    "b = np.array([1, 2, 3])\n",
    "\n",
    "b"
   ]
  },
  {
   "cell_type": "markdown",
   "metadata": {},
   "source": [
    "Given the equation above, can we solve the following?:\n",
    "\n",
    "$$\\begin{bmatrix}1 & 2 & 3 \\\\ 4 & 5 & 6 \\\\ 6 & 6 & 7\\end{bmatrix}X = \\begin{bmatrix}1\\\\2\\\\3\\end{bmatrix}$$\n",
    "\n",
    "We can if we multiply both by the ivnerse of the matrix on the LHS."
   ]
  },
  {
   "cell_type": "code",
   "execution_count": 4,
   "metadata": {},
   "outputs": [
    {
     "data": {
      "text/plain": [
       "matrix([[ 0.66666667, -1.33333333,  1.        ]])"
      ]
     },
     "execution_count": 4,
     "metadata": {},
     "output_type": "execute_result"
    }
   ],
   "source": [
    "# The matrix has an inverse attribute that calls its inverse\n",
    "A.I.dot(b)"
   ]
  },
  {
   "cell_type": "code",
   "execution_count": 5,
   "metadata": {},
   "outputs": [
    {
     "data": {
      "text/plain": [
       "array([ 0.66666667, -1.33333333,  1.        ])"
      ]
     },
     "execution_count": 5,
     "metadata": {},
     "output_type": "execute_result"
    }
   ],
   "source": [
    "# We can also use numpy's \"solve\" function\n",
    "np.linalg.solve(A, b)"
   ]
  },
  {
   "cell_type": "markdown",
   "metadata": {},
   "source": [
    "## Inverse of a singular matrix\n",
    "\n",
    "If a matrix does not have rull rank then the column space will not span the whole abient space. This means that it will be an object with 0 area. If an object has 0 area then it is impossible to know what operation will undo that.\n",
    "\n",
    "The same is true for scalars, there is no inverse of 0 and so that operation canot be undone.\n",
    "\n",
    "However, there are a number of operations that can be done to find some inverses anyway.\n",
    "\n",
    "### Left and Right inverses.\n",
    "\n",
    "As we already know, if we multiply a matrix by its transpose in any order we will get a full rank square matrix. We can then take the inverse of that matrix to find the left or right inverse.\n",
    "\n",
    "If we have a tall matrix that has more rows than columns then we can find the full matrix by the following\n",
    "\n",
    "$$(A^TA)^{-1}A^T$$\n",
    "\n",
    "If we have a wide matrix, with more columns than rows, then the operations change as follows\n",
    "\n",
    "$$A^T(AA^T)^{-1}$$\n",
    "\n",
    "Note that the shapes of the wide and tall matrices differ, so there is no plausible right inverse for a tall matrix and vice versa."
   ]
  },
  {
   "cell_type": "code",
   "execution_count": 6,
   "metadata": {},
   "outputs": [
    {
     "data": {
      "text/plain": [
       "matrix([[1, 2],\n",
       "        [4, 5],\n",
       "        [6, 6]])"
      ]
     },
     "execution_count": 6,
     "metadata": {},
     "output_type": "execute_result"
    }
   ],
   "source": [
    "# Create tall matrix\n",
    "B = A[:, :2]\n",
    "\n",
    "B"
   ]
  },
  {
   "cell_type": "code",
   "execution_count": 7,
   "metadata": {},
   "outputs": [
    {
     "data": {
      "text/plain": [
       "matrix([[-0.62962963, -0.37037037,  0.51851852],\n",
       "        [ 0.59259259,  0.40740741, -0.37037037]])"
      ]
     },
     "execution_count": 7,
     "metadata": {},
     "output_type": "execute_result"
    }
   ],
   "source": [
    "# Calculate left inverse\n",
    "(B.T.dot(B)).I.dot(B.T)"
   ]
  },
  {
   "cell_type": "code",
   "execution_count": 8,
   "metadata": {},
   "outputs": [],
   "source": [
    "# Calculate right inverse of B.T\n",
    "C = B.T\n",
    "C_i = (C.T.dot(C)).I.dot(C.T)"
   ]
  },
  {
   "cell_type": "code",
   "execution_count": 9,
   "metadata": {},
   "outputs": [
    {
     "data": {
      "text/plain": [
       "matrix([[ 1.   , -1.   ],\n",
       "        [ 0.125, -0.125]])"
      ]
     },
     "execution_count": 9,
     "metadata": {},
     "output_type": "execute_result"
    }
   ],
   "source": [
    "C.dot(C_i)"
   ]
  },
  {
   "cell_type": "code",
   "execution_count": 10,
   "metadata": {},
   "outputs": [
    {
     "data": {
      "text/plain": [
       "matrix([[-0.125 , -0.125 ,  0.    ],\n",
       "        [ 1.    ,  1.    ,  0.    ],\n",
       "        [-0.8125, -0.8125,  0.    ]])"
      ]
     },
     "execution_count": 10,
     "metadata": {},
     "output_type": "execute_result"
    }
   ],
   "source": [
    "C_i.dot(C)"
   ]
  },
  {
   "cell_type": "markdown",
   "metadata": {},
   "source": [
    "The interesting thing about the left and right invereses is that multiplying these by their original matrices does not result in an identity like matrix.\n",
    "\n",
    "In any case, these matrices are important when we start thinking about OLS and other more advances linear algebra topics."
   ]
  },
  {
   "cell_type": "markdown",
   "metadata": {},
   "source": [
    "### Pseudo Inverse\n",
    "\n",
    "Matrices also have a pseudo inverse which does recreate the identity matrix as closely as possible. How to calculate it is outside of the scope of this course but I want to note it here anyway."
   ]
  },
  {
   "cell_type": "code",
   "execution_count": 11,
   "metadata": {},
   "outputs": [
    {
     "data": {
      "text/plain": [
       "matrix([[-0.62962963,  0.59259259],\n",
       "        [-0.37037037,  0.40740741],\n",
       "        [ 0.51851852, -0.37037037]])"
      ]
     },
     "execution_count": 11,
     "metadata": {},
     "output_type": "execute_result"
    }
   ],
   "source": [
    "# Calculate pseudo inverse\n",
    "C_pinv = np.linalg.pinv(C)\n",
    "\n",
    "C_pinv"
   ]
  },
  {
   "cell_type": "code",
   "execution_count": 12,
   "metadata": {},
   "outputs": [
    {
     "data": {
      "text/plain": [
       "matrix([[ 0.55555556,  0.44444444, -0.22222222],\n",
       "        [ 0.44444444,  0.55555556,  0.22222222],\n",
       "        [-0.22222222,  0.22222222,  0.88888889]])"
      ]
     },
     "execution_count": 12,
     "metadata": {},
     "output_type": "execute_result"
    }
   ],
   "source": [
    "C_pinv.dot(C)"
   ]
  },
  {
   "cell_type": "markdown",
   "metadata": {},
   "source": [
    "## MCA Algorithm to calculate matrix inverse\n",
    "\n",
    "1. Compute minors\n",
    "2. Compute cofactors\n",
    "3. Perform haramard multiplication between the last two matrices and transpose the result\n",
    "4. Divide each element by the determinent\n",
    "\n",
    "Only issue, we need to caluclate determinants and we have already seen how this can be difficult using computers. Therefore it is often times not ideal to use matrix inverses in order to solve equations."
   ]
  }
 ],
 "metadata": {
  "kernelspec": {
   "display_name": "Python 3",
   "language": "python",
   "name": "python3"
  },
  "language_info": {
   "codemirror_mode": {
    "name": "ipython",
    "version": 3
   },
   "file_extension": ".py",
   "mimetype": "text/x-python",
   "name": "python",
   "nbconvert_exporter": "python",
   "pygments_lexer": "ipython3",
   "version": "3.7.2"
  }
 },
 "nbformat": 4,
 "nbformat_minor": 2
}
