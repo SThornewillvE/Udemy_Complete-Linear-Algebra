{
 "cells": [
  {
   "cell_type": "markdown",
   "metadata": {},
   "source": [
    "# Matrix Determinants\n",
    "\n",
    "Matrix determinants are denoted using $det(A)$ or $|A|$ where A is a matrix. Note that the latter matters because if a is a vector then the bard denote the magnitude/norm of the vector.\n",
    "\n",
    "It is worth noting that only square matrices have a determinant. This is because only matrices with an inverse have a determinant. (i.e. Non singular, square matrices.)\n",
    "\n",
    "Determinants are important when it comes to computing eigen values.\n",
    "\n",
    "Don't worry too much on how you calculate determinants because computers will usually do it for you. Though, 2x2 matrices are calculated as below:\n",
    "\n",
    "$$det(A) = det(\\begin{bmatrix} a & b \\\\c & d \\end{bmatrix}) = ab - cd$$"
   ]
  },
  {
   "cell_type": "code",
   "execution_count": 1,
   "metadata": {},
   "outputs": [],
   "source": [
    "import numpy as np"
   ]
  },
  {
   "cell_type": "code",
   "execution_count": 3,
   "metadata": {},
   "outputs": [
    {
     "data": {
      "text/plain": [
       "matrix([[1, 0],\n",
       "        [0, 1]])"
      ]
     },
     "execution_count": 3,
     "metadata": {},
     "output_type": "execute_result"
    }
   ],
   "source": [
    "A = np.matrix(\"1 0; 0 1\")\n",
    "\n",
    "A"
   ]
  },
  {
   "cell_type": "code",
   "execution_count": 4,
   "metadata": {},
   "outputs": [
    {
     "data": {
      "text/plain": [
       "1.0"
      ]
     },
     "execution_count": 4,
     "metadata": {},
     "output_type": "execute_result"
    }
   ],
   "source": [
    "np.linalg.det(A)"
   ]
  },
  {
   "cell_type": "markdown",
   "metadata": {},
   "source": [
    "The determinent denotes the area taken by the basis vectors of your matrix. Obviously, if the basis vectors do not span the whole ambient space then the area has no volume and the determinant is 0."
   ]
  },
  {
   "cell_type": "code",
   "execution_count": 6,
   "metadata": {},
   "outputs": [
    {
     "data": {
      "text/plain": [
       "array([[0.87855976, 0.24339112, 0.37823165, 0.44348179, 0.79419161],\n",
       "       [0.75477685, 0.61989363, 0.69128386, 0.75384519, 0.89702559],\n",
       "       [0.66629521, 0.69608491, 0.7667069 , 0.9302001 , 0.09090722],\n",
       "       [0.57335854, 0.57786666, 0.7675057 , 0.19857976, 0.55239667],\n",
       "       [0.89023343, 0.79066799, 0.91239323, 0.51407465, 0.43926203]])"
      ]
     },
     "execution_count": 6,
     "metadata": {},
     "output_type": "execute_result"
    }
   ],
   "source": [
    "# We can also do this for bigger matrices\n",
    "B = np.random.rand(5, 5)\n",
    "\n",
    "B"
   ]
  },
  {
   "cell_type": "code",
   "execution_count": 7,
   "metadata": {},
   "outputs": [
    {
     "data": {
      "text/plain": [
       "0.017933394847439027"
      ]
     },
     "execution_count": 7,
     "metadata": {},
     "output_type": "execute_result"
    }
   ],
   "source": [
    "np.linalg.det(B)"
   ]
  }
 ],
 "metadata": {
  "kernelspec": {
   "display_name": "Python 3",
   "language": "python",
   "name": "python3"
  },
  "language_info": {
   "codemirror_mode": {
    "name": "ipython",
    "version": 3
   },
   "file_extension": ".py",
   "mimetype": "text/x-python",
   "name": "python",
   "nbconvert_exporter": "python",
   "pygments_lexer": "ipython3",
   "version": "3.7.2"
  }
 },
 "nbformat": 4,
 "nbformat_minor": 2
}
