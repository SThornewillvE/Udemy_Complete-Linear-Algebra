{
 "cells": [
  {
   "cell_type": "markdown",
   "metadata": {},
   "source": [
    "# Solving Systems of equations\n",
    "## Gaussian Elimination\n",
    "\n",
    "Gaussian elimination is actually the first topic that Strang teaches, but it's quite a simple idea.\n",
    "\n",
    "The idea is to solve a system of equations in the same way how you'd do it if you were normally doing it by hand. i.e. By adding and subtracting rows from each other until you get it into either L or U form.\n",
    "\n",
    "The L and U forms of a matrix are two matrices where all values above (L-ower) or below (U-pper) are zero."
   ]
  },
  {
   "cell_type": "markdown",
   "metadata": {},
   "source": [
    "I won't show an example of this here because the code for this is pretty long and I don't want to get stuck in the nitty gritty. However, code can be found [here](https://martin-thoma.com/solving-linear-equations-with-gaussian-elimination/)."
   ]
  },
  {
   "cell_type": "markdown",
   "metadata": {},
   "source": [
    "## Echelon form\n",
    "\n",
    "Row reduced matrices can be attained through gaussian elimination.\n",
    "\n",
    "It is a special form that relates to the upper-triangular form, where all values to the left or beneath the pivots are 0 and all pivotes are classified as the leading non-zuro terms.\n",
    "\n",
    "Note that the number of pivots in the row-reduced form is equal to the rank of that matrix.\n",
    "\n",
    "Doesn't have a lot of practical use so I'll leave it at that."
   ]
  },
  {
   "cell_type": "markdown",
   "metadata": {},
   "source": [
    "## Row Reduced Echelon Form\n",
    "\n",
    "Row reduced echelon form is where it is at. It is different from echelon form because the values above the pivots are 0. Meaning that rref(A) will contain some form of the identity matrix. Values to the right of the identity will be values that show up in the basis for the null space corresponding to either the row or the column space depending on if you are calculating rref(A) or rref(A^T).\n",
    "\n",
    "You lose a lot of information this way, but it makes characteristics of the original matrix much more clear"
   ]
  },
  {
   "cell_type": "code",
   "execution_count": 22,
   "metadata": {},
   "outputs": [],
   "source": [
    "import numpy as np\n",
    "from scipy import linalg as la\n",
    "import sympy"
   ]
  },
  {
   "cell_type": "code",
   "execution_count": 15,
   "metadata": {},
   "outputs": [
    {
     "data": {
      "text/plain": [
       "matrix([[ 1,  2,  2,  2],\n",
       "        [ 2,  4,  6,  8],\n",
       "        [ 3,  6,  8, 10]])"
      ]
     },
     "execution_count": 15,
     "metadata": {},
     "output_type": "execute_result"
    }
   ],
   "source": [
    "# Let's say we have this matrix A\n",
    "A = np.matrix(\"1 2 2 2; 2 4 6 8; 3 6 8 10\")\n",
    "\n",
    "A"
   ]
  },
  {
   "cell_type": "code",
   "execution_count": 24,
   "metadata": {},
   "outputs": [
    {
     "data": {
      "text/plain": [
       "(Matrix([\n",
       " [1, 2, 0, -2],\n",
       " [0, 0, 1,  2],\n",
       " [0, 0, 0,  0]]), (0, 2))"
      ]
     },
     "execution_count": 24,
     "metadata": {},
     "output_type": "execute_result"
    }
   ],
   "source": [
    "# get rref\n",
    "rrefA = sympy.Matrix(A).rref()\n",
    "\n",
    "rrefA"
   ]
  },
  {
   "cell_type": "markdown",
   "metadata": {},
   "source": [
    "Note that there is information within this form but I am not exactly sure what. For more information check [lecture 8](https://www.youtube.com/watch?v=9Q1q7s1jTzU) of 18.06.\n",
    "\n",
    "![](rref.png)"
   ]
  }
 ],
 "metadata": {
  "kernelspec": {
   "display_name": "Python 3",
   "language": "python",
   "name": "python3"
  },
  "language_info": {
   "codemirror_mode": {
    "name": "ipython",
    "version": 3
   },
   "file_extension": ".py",
   "mimetype": "text/x-python",
   "name": "python",
   "nbconvert_exporter": "python",
   "pygments_lexer": "ipython3",
   "version": "3.7.2"
  }
 },
 "nbformat": 4,
 "nbformat_minor": 2
}
