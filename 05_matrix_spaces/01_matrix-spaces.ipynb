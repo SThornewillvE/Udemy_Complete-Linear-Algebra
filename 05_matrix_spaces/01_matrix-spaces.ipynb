{
 "cells": [
  {
   "cell_type": "markdown",
   "metadata": {},
   "source": [
    "# Matrix Spaces\n",
    "\n",
    "## Row and Column Vectors\n",
    "\n",
    "Matrices have contained within them spaces. We've already had some intuition with things such as the column-space, formed by the linearly independent column vectors created from a matrix. \n",
    "\n",
    "However, we can also do the same thing with a transposed version of the same matrix A, this is is the row space. (i.e. Row vectors become column vectors after transposition.)"
   ]
  },
  {
   "cell_type": "code",
   "execution_count": 4,
   "metadata": {},
   "outputs": [],
   "source": [
    "import numpy as np\n",
    "import scipy.linalg as la"
   ]
  },
  {
   "cell_type": "code",
   "execution_count": 3,
   "metadata": {},
   "outputs": [
    {
     "data": {
      "text/plain": [
       "matrix([[1, 2, 3],\n",
       "        [4, 5, 6],\n",
       "        [7, 8, 9]])"
      ]
     },
     "execution_count": 3,
     "metadata": {},
     "output_type": "execute_result"
    }
   ],
   "source": [
    "A = np.matrix(\"1 2 3; 4 5 6; 7 8 9\")\n",
    "\n",
    "A"
   ]
  },
  {
   "cell_type": "markdown",
   "metadata": {},
   "source": [
    "See the matrix above, which is a rank 2 matrix. We can find the basis of the column space of A by using `scipy.linalg`'s `orth` function. "
   ]
  },
  {
   "cell_type": "code",
   "execution_count": 5,
   "metadata": {},
   "outputs": [
    {
     "data": {
      "text/plain": [
       "array([[-0.21483724,  0.88723069],\n",
       "       [-0.52058739,  0.24964395],\n",
       "       [-0.82633754, -0.38794278]])"
      ]
     },
     "execution_count": 5,
     "metadata": {},
     "output_type": "execute_result"
    }
   ],
   "source": [
    "la.orth(A)"
   ]
  },
  {
   "cell_type": "markdown",
   "metadata": {},
   "source": [
    "Note that we can also find the basis for the row space of this matrix as well"
   ]
  },
  {
   "cell_type": "code",
   "execution_count": 7,
   "metadata": {},
   "outputs": [
    {
     "data": {
      "text/plain": [
       "array([[-0.47967118,  0.77669099],\n",
       "       [-0.57236779,  0.07568647],\n",
       "       [-0.66506441, -0.62531805]])"
      ]
     },
     "execution_count": 7,
     "metadata": {},
     "output_type": "execute_result"
    }
   ],
   "source": [
    "la.orth(A.T)"
   ]
  },
  {
   "cell_type": "markdown",
   "metadata": {},
   "source": [
    "Since we have a 3x3 matrix of rank 2, this matrix also has 2 basis vectors that create a plane in $R^3$. "
   ]
  },
  {
   "cell_type": "markdown",
   "metadata": {},
   "source": [
    "## Nullspaces\n",
    "\n",
    "When performing a linear tranformation using a matrix, remember that the transformation consists of rotations and stretching?\n",
    "\n",
    "If there are linearly dependant vectors in the column space of a matrix, then the points transformed by that matrix will be \"squished\" into a lower dimension of space. If we think of a grid of points in $R^2$ then if there is 1 linearly dependent column, these points will be pressed onto a line.\n",
    "\n",
    "The points that get pressed onto the origin is the left-nullspace. In our example above, the left-nullspace will be a line that is perpendicular to the column space."
   ]
  },
  {
   "cell_type": "code",
   "execution_count": 8,
   "metadata": {},
   "outputs": [
    {
     "data": {
      "text/plain": [
       "matrix([[1, 2, 3],\n",
       "        [4, 5, 6],\n",
       "        [7, 8, 9]])"
      ]
     },
     "execution_count": 8,
     "metadata": {},
     "output_type": "execute_result"
    }
   ],
   "source": [
    "A"
   ]
  },
  {
   "cell_type": "markdown",
   "metadata": {},
   "source": [
    "If we remember this matrix from before, we can see that one of the columns is linearly independent meaning that 3d space gets pressed onto a plane. What is the basis for the nullspace of this matrix?"
   ]
  },
  {
   "cell_type": "code",
   "execution_count": 20,
   "metadata": {},
   "outputs": [
    {
     "data": {
      "text/plain": [
       "array([[ 0.40824829],\n",
       "       [-0.81649658],\n",
       "       [ 0.40824829]])"
      ]
     },
     "execution_count": 20,
     "metadata": {},
     "output_type": "execute_result"
    }
   ],
   "source": [
    "la.null_space(A.T)"
   ]
  },
  {
   "cell_type": "markdown",
   "metadata": {},
   "source": [
    "We can see here that we can use numpy to find the basis for the left-nullspace of A. This line will be perpendicular to the plane created by the columns space of A."
   ]
  },
  {
   "cell_type": "code",
   "execution_count": 34,
   "metadata": {},
   "outputs": [
    {
     "data": {
      "text/plain": [
       "array([[1.11022302e-16],\n",
       "       [4.99600361e-16]])"
      ]
     },
     "execution_count": 34,
     "metadata": {},
     "output_type": "execute_result"
    }
   ],
   "source": [
    "# Note that the numbers here are so small that they are practically 0. (i.e. rounding error)\n",
    "la.orth(A).T.dot(la.null_space(A.T))  "
   ]
  },
  {
   "cell_type": "markdown",
   "metadata": {},
   "source": [
    "## Dimensions of matrix spaces\n",
    "\n",
    "My favorite way to think of matrix spaces has been outlined by Gilbert Strang in his course posted on MIT OCW.\n",
    "\n",
    "![](matrix-spaces.png)"
   ]
  },
  {
   "cell_type": "markdown",
   "metadata": {},
   "source": [
    "We can see here what was found experimentally above, that the number of bases in the column space and the left-null space must equal the number of columns in matrix A. These bases will be in $R^n$ (because each column will have n rows.)\n",
    "\n",
    "The opposite is also true for the row space and the null space of a matrix. Where the num"
   ]
  }
 ],
 "metadata": {
  "kernelspec": {
   "display_name": "Python 3",
   "language": "python",
   "name": "python3"
  },
  "language_info": {
   "codemirror_mode": {
    "name": "ipython",
    "version": 3
   },
   "file_extension": ".py",
   "mimetype": "text/x-python",
   "name": "python",
   "nbconvert_exporter": "python",
   "pygments_lexer": "ipython3",
   "version": "3.7.2"
  }
 },
 "nbformat": 4,
 "nbformat_minor": 2
}
