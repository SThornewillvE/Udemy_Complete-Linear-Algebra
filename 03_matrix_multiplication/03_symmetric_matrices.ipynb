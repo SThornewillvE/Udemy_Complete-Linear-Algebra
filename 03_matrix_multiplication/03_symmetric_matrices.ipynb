{
 "cells": [
  {
   "cell_type": "markdown",
   "metadata": {},
   "source": [
    "# Properties of Symmetric Matrices\n",
    "\n",
    "There are two ways to make symmetric matrices via an additive method and a multiplicative method\n",
    "\n",
    "## Additive creation of  symmetric matrix\n",
    "\n",
    "One way to create a symmetric matrix is to sum the matrix by its transpose and normalise that matrix.\n",
    "\n",
    "$$0.5(AA^T) = S$$\n",
    "\n",
    "Obviously, this will only work for square matrices.\n",
    "\n",
    "$$0.5 (\\begin{bmatrix} a & b \\\\ c & d \\end{bmatrix} + \\begin{bmatrix} a & b \\\\ c & d \\end{bmatrix}^T) = \n",
    "0.5 \\begin{bmatrix} 2a & b+c \\\\ c+b & 2d \\end{bmatrix}$$"
   ]
  },
  {
   "cell_type": "code",
   "execution_count": 1,
   "metadata": {},
   "outputs": [],
   "source": [
    "# Import numpy\n",
    "import numpy as np"
   ]
  },
  {
   "cell_type": "code",
   "execution_count": 3,
   "metadata": {},
   "outputs": [
    {
     "data": {
      "text/plain": [
       "array([[0.85118628, 0.67713968],\n",
       "       [0.27734151, 0.53320889]])"
      ]
     },
     "execution_count": 3,
     "metadata": {},
     "output_type": "execute_result"
    }
   ],
   "source": [
    "A = np.random.rand(2,2)\n",
    "\n",
    "A"
   ]
  },
  {
   "cell_type": "code",
   "execution_count": 5,
   "metadata": {},
   "outputs": [
    {
     "data": {
      "text/plain": [
       "array([[0.85118628, 0.4772406 ],\n",
       "       [0.4772406 , 0.53320889]])"
      ]
     },
     "execution_count": 5,
     "metadata": {},
     "output_type": "execute_result"
    }
   ],
   "source": [
    "0.5 * (A + A.T)"
   ]
  },
  {
   "cell_type": "markdown",
   "metadata": {},
   "source": [
    "## Multipicative creation of symmetric matrix\n",
    "\n",
    "Another -more common- way to create a symmetric matrix is simply by multiplying a matrix by its transpose.\n",
    "\n",
    "However, this will mean that the values found will now take a sort of quadratic form:\n",
    "\n",
    "$$AA^T = \\begin{bmatrix} a^2 + c^2 & ab + cd \\\\ ab + cd & b^2+d^2 \\end{bmatrix}$$"
   ]
  },
  {
   "cell_type": "code",
   "execution_count": 6,
   "metadata": {},
   "outputs": [
    {
     "data": {
      "text/plain": [
       "array([[1.18303624, 0.59712619],\n",
       "       [0.59712619, 0.36123004]])"
      ]
     },
     "execution_count": 6,
     "metadata": {},
     "output_type": "execute_result"
    }
   ],
   "source": [
    "A.dot(A.T)"
   ]
  },
  {
   "cell_type": "markdown",
   "metadata": {},
   "source": [
    "Here's a question, if we take two symmetric matrices and multiply them together do we get a symmetric matrix?\n",
    "\n",
    "Only if they are the same matrix. This is due to the way how matrices are multiplies rows by columns, the order matters and so the numbers on the off-diagonal will not be symmetric."
   ]
  },
  {
   "cell_type": "code",
   "execution_count": 8,
   "metadata": {},
   "outputs": [],
   "source": [
    "B = np.random.rand(2,2)"
   ]
  },
  {
   "cell_type": "code",
   "execution_count": 10,
   "metadata": {},
   "outputs": [
    {
     "data": {
      "text/plain": [
       "array([[1.1219527 , 1.2868193 ],\n",
       "       [0.60488408, 0.7020046 ]])"
      ]
     },
     "execution_count": 10,
     "metadata": {},
     "output_type": "execute_result"
    }
   ],
   "source": [
    "(A.dot(A.T)).dot(B.dot(B.T))"
   ]
  }
 ],
 "metadata": {
  "kernelspec": {
   "display_name": "Python 3",
   "language": "python",
   "name": "python3"
  },
  "language_info": {
   "codemirror_mode": {
    "name": "ipython",
    "version": 3
   },
   "file_extension": ".py",
   "mimetype": "text/x-python",
   "name": "python",
   "nbconvert_exporter": "python",
   "pygments_lexer": "ipython3",
   "version": "3.7.2"
  }
 },
 "nbformat": 4,
 "nbformat_minor": 2
}
