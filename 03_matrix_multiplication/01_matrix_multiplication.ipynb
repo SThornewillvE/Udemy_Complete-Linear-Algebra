{
 "cells": [
  {
   "cell_type": "markdown",
   "metadata": {},
   "source": [
    "# Matrix Multiplication\n",
    "\n",
    "Matrix multiplication can be conceptualised in many different ways but the main thing to understand is that it is not commutative, although it is associative.\n",
    "\n",
    "$$AB \\neq BA$$\n",
    "\n",
    "$$A(BC) = (AB)C$$\n",
    "\n",
    "The reason why it's not communicative is because each cell of a new matrix is equal to the dot product of the rows in the first matrix, multiplied by the columns in another.\n",
    "\n",
    "Naturally, this means that this operation only works if the number of rows in matrix A is equal to the number of columns in matrix B resulting in a matrix with the same number of columns as matrix A and rows of matrix B.\n",
    "\n",
    "This can be remembered in a graphical way:\n",
    "\n",
    "$$(N_A, M_A) \\times (N_B, M_B) = (N_A, M_B)$$"
   ]
  },
  {
   "cell_type": "code",
   "execution_count": 12,
   "metadata": {},
   "outputs": [],
   "source": [
    "import numpy as np\n",
    "\n",
    "A = np.random.rand(4,2)\n",
    "\n",
    "B = np.random.rand(2,3)"
   ]
  },
  {
   "cell_type": "code",
   "execution_count": 13,
   "metadata": {},
   "outputs": [
    {
     "data": {
      "text/plain": [
       "array([[0.15640972, 0.21190579, 0.18532092],\n",
       "       [0.1442303 , 0.2393359 , 0.20422122],\n",
       "       [0.18316058, 0.28311602, 0.24354705],\n",
       "       [0.10888771, 0.1531419 , 0.13327841]])"
      ]
     },
     "execution_count": 13,
     "metadata": {},
     "output_type": "execute_result"
    }
   ],
   "source": [
    "# Show that AB works but not BA\n",
    "A.dot(B)  # Note how the resulting matrix is 4x3 as predicted"
   ]
  },
  {
   "cell_type": "code",
   "execution_count": 15,
   "metadata": {},
   "outputs": [
    {
     "name": "stdout",
     "output_type": "stream",
     "text": [
      "Matrix operation is invalid.\n"
     ]
    }
   ],
   "source": [
    "try:\n",
    "    B.dot(A)\n",
    "except ValueError:\n",
    "    print(\"Matrix operation is invalid.\")"
   ]
  },
  {
   "cell_type": "markdown",
   "metadata": {},
   "source": [
    "## Special Matrices: Diagonal Matrices\n",
    "\n",
    "Something that is worth knowing is that a matrix that is multipled by a diagonal matrix results in a scaling of each row/column."
   ]
  },
  {
   "cell_type": "code",
   "execution_count": 24,
   "metadata": {},
   "outputs": [
    {
     "data": {
      "text/plain": [
       "matrix([[1., 2., 3.],\n",
       "        [1., 2., 3.],\n",
       "        [1., 2., 3.]])"
      ]
     },
     "execution_count": 24,
     "metadata": {},
     "output_type": "execute_result"
    }
   ],
   "source": [
    "C = np.ones((3,3))\n",
    "D = np.matrix(\"1 0 0; 0 2 0; 0 0 3\")\n",
    "\n",
    "C.dot(D)  # See how we multiply each column by the number on the diagonal"
   ]
  },
  {
   "cell_type": "code",
   "execution_count": 25,
   "metadata": {},
   "outputs": [
    {
     "data": {
      "text/plain": [
       "matrix([[1., 1., 1.],\n",
       "        [2., 2., 2.],\n",
       "        [3., 3., 3.]])"
      ]
     },
     "execution_count": 25,
     "metadata": {},
     "output_type": "execute_result"
    }
   ],
   "source": [
    "D.dot(C)  # If we do it the other way then we multiply each column by that number"
   ]
  },
  {
   "cell_type": "markdown",
   "metadata": {},
   "source": [
    "## But what does a matrix mean?\n",
    "\n",
    "While it is very interesting how to do matrix multiplication, what does it actually mean? \n",
    "\n",
    "A matrix represents an operation on a field on space. This operation consists of two components, a rotation and a stretching. This is why linear algebra can be important when it comes to image processing for instance.\n",
    "\n",
    "$$ \\lambda \\begin{bmatrix} cos(\\theta) & -sin(\\theta) \\\\ sin(\\theta) & cos(\\theta) \\end{bmatrix} = A$$\n",
    "\n",
    "We can see above that a $2 \\times 2$ matrix A can be expressed by some stretching factor lambda and an according rotation\n",
    "\n",
    "Note the rotation of doesn't do any stretching, for the length is always one due to this identity:\n",
    "\n",
    "$$1 = \\sqrt{cos^2(\\theta) + sin^2(\\theta)} = cos^2(\\theta) + sin^2(\\theta)$$"
   ]
  }
 ],
 "metadata": {
  "kernelspec": {
   "display_name": "Python 3",
   "language": "python",
   "name": "python3"
  },
  "language_info": {
   "codemirror_mode": {
    "name": "ipython",
    "version": 3
   },
   "file_extension": ".py",
   "mimetype": "text/x-python",
   "name": "python",
   "nbconvert_exporter": "python",
   "pygments_lexer": "ipython3",
   "version": "3.7.2"
  }
 },
 "nbformat": 4,
 "nbformat_minor": 2
}
