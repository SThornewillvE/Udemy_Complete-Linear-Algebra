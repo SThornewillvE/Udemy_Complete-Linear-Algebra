{
 "cells": [
  {
   "cell_type": "markdown",
   "metadata": {},
   "source": [
    "# Challenges\n",
    "\n",
    "Here, we want to perform a couple of challenges when it comes to matrix multiplication."
   ]
  },
  {
   "cell_type": "code",
   "execution_count": 1,
   "metadata": {},
   "outputs": [],
   "source": [
    "import numpy as np"
   ]
  },
  {
   "cell_type": "markdown",
   "metadata": {},
   "source": [
    "## Challenge 1: matrix multiplication by layering\n",
    "\n",
    "The challenge here is to implement matrix multiplication by using the \"layering\" mindset\n",
    "\n",
    "1. Generate two matrices (square)\n",
    "2. Build up the matrix product layer-wise\n",
    "3. Implement matrix multiplication directly\n",
    "4. Compare the two results"
   ]
  },
  {
   "cell_type": "code",
   "execution_count": 2,
   "metadata": {},
   "outputs": [],
   "source": [
    "def check_matrix_mult(A, B):\n",
    "    \"\"\"\n",
    "    Checks if it is possible to take the product of two matrices\n",
    "    \"\"\"\n",
    "    \n",
    "    return A.shape[1] == B.shape[0]"
   ]
  },
  {
   "cell_type": "code",
   "execution_count": 3,
   "metadata": {},
   "outputs": [],
   "source": [
    "def layer_multiplication(A, B):\n",
    "    \"\"\"\n",
    "    Accepts two matrices A, B and returns the product of the two using a layering algorithm.\n",
    "    \n",
    "    The easiest way for me to think about this is by breaking two matrices into their component vectors and \n",
    "    taking the column wise outer product from one matrix to the other\n",
    "    \n",
    "    :returns: AB\n",
    "    \"\"\"\n",
    "    \n",
    "    if not check_matrix_mult(A, B):\n",
    "        print(\"A and B cannot be multiplied\")\n",
    "        return\n",
    "    \n",
    "    # Assuming 2x2 vector\n",
    "    A_1 = A[:, 0]\n",
    "    A_2 = A[:, 1]\n",
    "    B_1 = B[0, :]\n",
    "    B_2 = B[1, :]\n",
    "    \n",
    "    C = np.outer(A_1, B_1)\n",
    "    D = np.outer(A_2, B_2)\n",
    "    \n",
    "    return C + D"
   ]
  },
  {
   "cell_type": "code",
   "execution_count": 4,
   "metadata": {},
   "outputs": [],
   "source": [
    "# Create random matrices\n",
    "A, B = np.random.rand(2, 2), np.random.rand(2, 2)"
   ]
  },
  {
   "cell_type": "code",
   "execution_count": 5,
   "metadata": {},
   "outputs": [
    {
     "data": {
      "text/plain": [
       "array([[1.16283895, 1.10558616],\n",
       "       [0.7953019 , 0.70126742]])"
      ]
     },
     "execution_count": 5,
     "metadata": {},
     "output_type": "execute_result"
    }
   ],
   "source": [
    "# Print the result of the normal multiplication\n",
    "A.dot(B)"
   ]
  },
  {
   "cell_type": "code",
   "execution_count": 6,
   "metadata": {},
   "outputs": [
    {
     "data": {
      "text/plain": [
       "array([[1.16283895, 1.10558616],\n",
       "       [0.7953019 , 0.70126742]])"
      ]
     },
     "execution_count": 6,
     "metadata": {},
     "output_type": "execute_result"
    }
   ],
   "source": [
    "# Print result of layer mulitplication\n",
    "layer_multiplication(A, B)"
   ]
  },
  {
   "cell_type": "code",
   "execution_count": 7,
   "metadata": {},
   "outputs": [],
   "source": [
    "    A_1 = A[:, 0]\n",
    "    A_2 = A[:, 1]\n",
    "    B_1 = B[0, :]\n",
    "    B_2 = B[1, :]"
   ]
  },
  {
   "cell_type": "markdown",
   "metadata": {},
   "source": [
    "## Challenge 2: Symmetry of Combined symmetric matrices\n",
    "\n",
    "1. Create two symmetric matrices\n",
    "2. Computer sum, multiplication and hadamard multiplication of the two matrices\n",
    "3. Determine if results are still symmetric"
   ]
  },
  {
   "cell_type": "code",
   "execution_count": 8,
   "metadata": {},
   "outputs": [],
   "source": [
    "# Create symmetric matrices\n",
    "E = np.random.rand(2,2)\n",
    "F = np.random.rand(2,2)\n",
    "\n",
    "E = E.dot(E.T)\n",
    "F = F.dot(F.T)"
   ]
  },
  {
   "cell_type": "code",
   "execution_count": 9,
   "metadata": {},
   "outputs": [
    {
     "data": {
      "text/plain": [
       "array([[1.90849689, 0.6907515 ],\n",
       "       [0.6907515 , 0.47692845]])"
      ]
     },
     "execution_count": 9,
     "metadata": {},
     "output_type": "execute_result"
    }
   ],
   "source": [
    "# Sum of symmetric matrices\n",
    "E + F"
   ]
  },
  {
   "cell_type": "code",
   "execution_count": 10,
   "metadata": {},
   "outputs": [
    {
     "data": {
      "text/plain": [
       "array([[1.02395652, 0.46144505],\n",
       "       [0.37376782, 0.16865873]])"
      ]
     },
     "execution_count": 10,
     "metadata": {},
     "output_type": "execute_result"
    }
   ],
   "source": [
    "# Multiplication of symmetric matrices\n",
    "E.dot(F)"
   ]
  },
  {
   "cell_type": "code",
   "execution_count": 11,
   "metadata": {},
   "outputs": [
    {
     "data": {
      "text/plain": [
       "array([[0.90967141, 0.11428512],\n",
       "       [0.11428512, 0.05437361]])"
      ]
     },
     "execution_count": 11,
     "metadata": {},
     "output_type": "execute_result"
    }
   ],
   "source": [
    "# Haddamard multiplication of symmetric matrices\n",
    "E*F"
   ]
  },
  {
   "cell_type": "markdown",
   "metadata": {},
   "source": [
    "We can we above that only element-wise multiplications will result in a symmetric matrices because the symmetry will be preserved.\n",
    "\n",
    "Matrix multiplication won't result in a symmetric matrix because of the row-column wise dot products which are non commutative."
   ]
  },
  {
   "cell_type": "markdown",
   "metadata": {},
   "source": [
    "## Challenge 3: Standard and Hadamard Mult. for diagonal matrices\n",
    "\n",
    "1. Create two matrices, one filled with numbers and the other is a diagonal matrix\n",
    "2. Multiply them by themselves for both standard and haddamard mult."
   ]
  },
  {
   "cell_type": "code",
   "execution_count": 12,
   "metadata": {},
   "outputs": [],
   "source": [
    "# Create full matrix\n",
    "G = np.random.rand(2,2)\n",
    "\n",
    "# Create diagonal matrix\n",
    "H = np.random.rand(2,2) * np.identity(2)"
   ]
  },
  {
   "cell_type": "code",
   "execution_count": 13,
   "metadata": {},
   "outputs": [
    {
     "name": "stdout",
     "output_type": "stream",
     "text": [
      "[[0.0116974  0.02625728]\n",
      " [0.02625728 0.96323805]] \n",
      " [[0.44519123 0.        ]\n",
      " [0.         0.00204653]]\n"
     ]
    }
   ],
   "source": [
    "# Multiply by themselves standardly\n",
    "GGt = G.dot(G.T)\n",
    "HHt = H.dot(H.T)\n",
    "\n",
    "print(GGt,\"\\n\", HHt)"
   ]
  },
  {
   "cell_type": "code",
   "execution_count": 14,
   "metadata": {},
   "outputs": [
    {
     "name": "stdout",
     "output_type": "stream",
     "text": [
      "[[1.58970775e-04 1.15384270e-02]\n",
      " [9.46269973e-01 1.69680785e-02]] \n",
      " [[0.44519123 0.        ]\n",
      " [0.         0.00204653]]\n"
     ]
    }
   ],
   "source": [
    "# Multiply themselves using haddamard\n",
    "GG = G * G\n",
    "HH = H * H\n",
    "\n",
    "print(GG,\"\\n\", HH)"
   ]
  },
  {
   "cell_type": "markdown",
   "metadata": {},
   "source": [
    "We can see that for the diagonal matrix, hadamard multiplication is the same as normal matrix multiplication.\n",
    "\n",
    "We can see a proof for this below:\n",
    "\n",
    "$$\\begin{bmatrix} a & 0 \\\\ 0 & d \\end{bmatrix}\n",
    "\\begin{bmatrix} a & 0 \\\\ 0 & d \\end{bmatrix} = \\begin{bmatrix} a^2 & 0 \\\\ 0 & d^2 \\end{bmatrix}$$\n",
    "\n",
    "We can immediately see that this is the same as taking the element wise multiplication."
   ]
  }
 ],
 "metadata": {
  "kernelspec": {
   "display_name": "Python 3",
   "language": "python",
   "name": "python3"
  },
  "language_info": {
   "codemirror_mode": {
    "name": "ipython",
    "version": 3
   },
   "file_extension": ".py",
   "mimetype": "text/x-python",
   "name": "python",
   "nbconvert_exporter": "python",
   "pygments_lexer": "ipython3",
   "version": "3.7.2"
  }
 },
 "nbformat": 4,
 "nbformat_minor": 2
}
