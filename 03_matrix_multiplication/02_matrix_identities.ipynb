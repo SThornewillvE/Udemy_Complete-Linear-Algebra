{
 "cells": [
  {
   "cell_type": "markdown",
   "metadata": {},
   "source": [
    "# Matrix Identities\n",
    "\n",
    "When looking at an equation that includes matrices, you need to think a little differently about how operations are done. One of those things that needs to change is the idea of an \"identity\".\n",
    "\n",
    "## Multiplicative identities\n",
    "\n",
    "When considering matrices, you can multiply by 1 but there is also ao"
   ]
  },
  {
   "cell_type": "code",
   "execution_count": 1,
   "metadata": {},
   "outputs": [
    {
     "data": {
      "text/plain": [
       "array([[0.19943862, 0.71202313, 0.64164182],\n",
       "       [0.11761   , 0.8558031 , 0.64089086],\n",
       "       [0.63831721, 0.48545693, 0.68454228]])"
      ]
     },
     "execution_count": 1,
     "metadata": {},
     "output_type": "execute_result"
    }
   ],
   "source": [
    "import numpy as np\n",
    "\n",
    "A = np.random.rand(3,3)\n",
    "\n",
    "A"
   ]
  },
  {
   "cell_type": "code",
   "execution_count": 6,
   "metadata": {},
   "outputs": [
    {
     "data": {
      "text/plain": [
       "True"
      ]
     },
     "execution_count": 6,
     "metadata": {},
     "output_type": "execute_result"
    }
   ],
   "source": [
    "# Does multiplying a matrix by one work?\n",
    "(A * 1 == A).all()"
   ]
  },
  {
   "cell_type": "code",
   "execution_count": 17,
   "metadata": {},
   "outputs": [
    {
     "data": {
      "text/plain": [
       "False"
      ]
     },
     "execution_count": 17,
     "metadata": {},
     "output_type": "execute_result"
    }
   ],
   "source": [
    "# How about a matrix of 1s?\n",
    "(A.dot(np.ones((3,3))) == A).all()"
   ]
  },
  {
   "cell_type": "markdown",
   "metadata": {},
   "source": [
    "We can see above that multiplying by a matrix of ones is not the same is multiplying by one. The reason for this is that for each row in matrix A, the resultant cell will need to add all of those values instead of just returning one of those values back into the original cell.\n",
    "\n",
    "This gives rise to the identity matrix, the only matrix that will allow you to fulfill this condition:\n",
    "\n",
    "$$I_3 = \\begin{bmatrix} 1 & 0 & 0 \\\\ 0 & 1 & 0 \\\\ 0& 0 & 1 \\end{bmatrix}$$"
   ]
  },
  {
   "cell_type": "code",
   "execution_count": 18,
   "metadata": {},
   "outputs": [
    {
     "data": {
      "text/plain": [
       "True"
      ]
     },
     "execution_count": 18,
     "metadata": {},
     "output_type": "execute_result"
    }
   ],
   "source": [
    "# How about by the identity matrix?\n",
    "(A.dot(np.identity(3)) == A).all()"
   ]
  },
  {
   "cell_type": "markdown",
   "metadata": {},
   "source": [
    "Obviously, multiplying a matrix by a zero-matrix will not return back the same matrix but a matrix of zeroes."
   ]
  },
  {
   "cell_type": "markdown",
   "metadata": {},
   "source": [
    "## Additive identites\n",
    "\n",
    "However, when it comes to addition, these ideas of rows and columns is no longer relevant since the elements of a matrix are manipulated element-wise.\n",
    "\n",
    "This means that in order to return the same matrix, you need to add by the zero vector\n",
    "\n",
    "$$A + 0 = A$$"
   ]
  }
 ],
 "metadata": {
  "kernelspec": {
   "display_name": "Python 3",
   "language": "python",
   "name": "python3"
  },
  "language_info": {
   "codemirror_mode": {
    "name": "ipython",
    "version": 3
   },
   "file_extension": ".py",
   "mimetype": "text/x-python",
   "name": "python",
   "nbconvert_exporter": "python",
   "pygments_lexer": "ipython3",
   "version": "3.7.2"
  }
 },
 "nbformat": 4,
 "nbformat_minor": 2
}
