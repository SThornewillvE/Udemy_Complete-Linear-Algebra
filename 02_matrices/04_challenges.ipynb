{
 "cells": [
  {
   "cell_type": "markdown",
   "metadata": {},
   "source": [
    "# Challenges\n",
    "\n",
    "Now that we have some basic understanding of matrices, let's have a look at a couple of challenges.\n",
    "\n",
    "## Challenge 1: Is Matrix Scalar multiplication a linear operation?\n",
    "\n",
    "Is it true that $\\lambda(M + N) = \\lambda(M) + \\lambda(N)$?\n",
    "\n",
    "To see this do the following steps:\n",
    "\n",
    "1. Create two random matrices with the same shape\n",
    "2. Check that the above equality is true."
   ]
  },
  {
   "cell_type": "code",
   "execution_count": 3,
   "metadata": {},
   "outputs": [],
   "source": [
    "# Import numpy\n",
    "import numpy as np\n",
    "\n",
    "# Define matrix shape\n",
    "m = np.random.randint(0, 5)\n",
    "n = np.random.randint(0, 5)\n",
    "\n",
    "# Create two random matrices\n",
    "M = np.random.rand(m, n)\n",
    "N = np.random.rand(m, n)\n",
    "\n",
    "# Define random scalar\n",
    "lmbd = np.random.randint(0, 1)\n",
    "\n",
    "assert (lmbd*(M+N)).all() == (lmbd*M + lmbd*N).all()"
   ]
  },
  {
   "cell_type": "markdown",
   "metadata": {},
   "source": [
    "Since the assertion above did not throw an erorr, we can conclude that matrix scalar multiplication is a linear operation."
   ]
  },
  {
   "cell_type": "markdown",
   "metadata": {},
   "source": [
    "## Challenge 2: Linearity of the trace\n",
    "\n",
    "In order to be linear, an operation must be closed under addition and multiplication.\n",
    "\n",
    "i.e.\n",
    "\n",
    "1. $trace(A + B) = trace(A) + trace(B)$\n",
    "2. $trace(\\lambda * A) = lambda * trace(A)$"
   ]
  },
  {
   "cell_type": "code",
   "execution_count": 4,
   "metadata": {},
   "outputs": [],
   "source": [
    "# Create new square matrices\n",
    "A = np.random.rand(m, m)\n",
    "B = np.random.rand(m, m)"
   ]
  },
  {
   "cell_type": "code",
   "execution_count": 15,
   "metadata": {},
   "outputs": [],
   "source": [
    "# Assert if 1 is the case\n",
    "try:\n",
    "    assert (A+B).trace().round(5) == (A.trace() + B.trace()).round(5)\n",
    "except AssertionError:\n",
    "    print(\"The trace is not a linear operation!\")"
   ]
  },
  {
   "cell_type": "code",
   "execution_count": 7,
   "metadata": {},
   "outputs": [],
   "source": [
    "# Assert if 2 is the case\n",
    "try:\n",
    "    assert (A*lmbd).trace() == lmbd*A.trace()\n",
    "except AssertionError:\n",
    "    print(\"The trace is not a linear operation!\")"
   ]
  },
  {
   "cell_type": "markdown",
   "metadata": {},
   "source": [
    "We can also see that the trace is a linear operation because we are simply adding across the diagonal of a matrix"
   ]
  }
 ],
 "metadata": {
  "kernelspec": {
   "display_name": "Python 3",
   "language": "python",
   "name": "python3"
  },
  "language_info": {
   "codemirror_mode": {
    "name": "ipython",
    "version": 3
   },
   "file_extension": ".py",
   "mimetype": "text/x-python",
   "name": "python",
   "nbconvert_exporter": "python",
   "pygments_lexer": "ipython3",
   "version": "3.7.2"
  }
 },
 "nbformat": 4,
 "nbformat_minor": 2
}
