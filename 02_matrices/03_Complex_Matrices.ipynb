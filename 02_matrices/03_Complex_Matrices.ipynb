{
 "cells": [
  {
   "cell_type": "markdown",
   "metadata": {},
   "source": [
    "# Complex Matrices\n",
    "\n",
    "Complex matrices follow the same rules as with complex vectors. Namely we need to be careful of taking the transpose of a complex vector, we need to use the hermetian instead."
   ]
  },
  {
   "cell_type": "code",
   "execution_count": 1,
   "metadata": {},
   "outputs": [
    {
     "data": {
      "text/plain": [
       "matrix([[ 1.+0.j, -1.+5.j,  0.+0.j],\n",
       "        [-1.+0.j, -2.+0.j, -4.+0.j],\n",
       "        [ 0.+6.j, -4.+0.j,  5.-2.j]])"
      ]
     },
     "execution_count": 1,
     "metadata": {},
     "output_type": "execute_result"
    }
   ],
   "source": [
    "#import numpy\n",
    "import numpy as np\n",
    "\n",
    "# Define complex vector\n",
    "A = np.matrix(\"1 -1+5j 0; -1 -2 -4; 6j -4 5-2j\")\n",
    "\n",
    "A"
   ]
  },
  {
   "cell_type": "code",
   "execution_count": 5,
   "metadata": {},
   "outputs": [],
   "source": [
    "def hermetian(A):\n",
    "    \"\"\"\n",
    "    Takes the complex conjugate of A and transposes it to find the hermetian.\n",
    "    \n",
    "    :returns: A.H\n",
    "    \"\"\"\n",
    "    \n",
    "    return A.conj().transpose()"
   ]
  },
  {
   "cell_type": "code",
   "execution_count": 6,
   "metadata": {},
   "outputs": [
    {
     "data": {
      "text/plain": [
       "matrix([[ 1.-0.j, -1.-0.j,  0.-6.j],\n",
       "        [-1.-5.j, -2.-0.j, -4.-0.j],\n",
       "        [ 0.-0.j, -4.-0.j,  5.+2.j]])"
      ]
     },
     "execution_count": 6,
     "metadata": {},
     "output_type": "execute_result"
    }
   ],
   "source": [
    "hermetian(A)"
   ]
  }
 ],
 "metadata": {
  "kernelspec": {
   "display_name": "Python 3",
   "language": "python",
   "name": "python3"
  },
  "language_info": {
   "codemirror_mode": {
    "name": "ipython",
    "version": 3
   },
   "file_extension": ".py",
   "mimetype": "text/x-python",
   "name": "python",
   "nbconvert_exporter": "python",
   "pygments_lexer": "ipython3",
   "version": "3.7.2"
  }
 },
 "nbformat": 4,
 "nbformat_minor": 2
}
