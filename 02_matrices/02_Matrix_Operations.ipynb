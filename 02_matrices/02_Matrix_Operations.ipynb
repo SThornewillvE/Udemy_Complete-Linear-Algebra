{
 "cells": [
  {
   "cell_type": "markdown",
   "metadata": {},
   "source": [
    "# Matrix Operations\n",
    "\n",
    "*Note: Matrix-Matrix Multiplication will get its own section and is not covered in this section.*\n",
    "\n",
    "\n",
    "## Matrix Addition\n",
    "\n",
    "Two matrices can be added together as long as they have the same shape (M x N). Pay attention to the fact that I did not use the words \"dimension\", which can have multiple different meanings.\n",
    "\n",
    "$$A + B =\n",
    "  \\begin{bmatrix} a_{11} & a_{12} \\\\ a_{21} & a_{21} \\end{bmatrix} + \n",
    "  \\begin{bmatrix} b_{11} & b_{12} \\\\ b_{21} & b_{21} \\end{bmatrix} = \n",
    "  \\begin{bmatrix} a_{11}+b_{11} & a_{12}+b_{12} \\\\ a_{21}+b_{21} & a_{21}+b_{21} \\end{bmatrix}\n",
    "  $$\n",
    "  \n",
    "  Note that matrix addition is commutative and associative;\n",
    "  \n",
    "  $$(A+B)+C = (B+A)+C = B+(A+C)$$"
   ]
  },
  {
   "cell_type": "code",
   "execution_count": 1,
   "metadata": {},
   "outputs": [],
   "source": [
    "# Import numpy\n",
    "import numpy as np"
   ]
  },
  {
   "cell_type": "code",
   "execution_count": 2,
   "metadata": {},
   "outputs": [],
   "source": [
    "# Create 3 random matrices\n",
    "A, B, C = np.random.rand(2,2), np.random.rand(2,2), np.random.rand(2,2)"
   ]
  },
  {
   "cell_type": "code",
   "execution_count": 3,
   "metadata": {},
   "outputs": [],
   "source": [
    "# Show communicative property\n",
    "assert (A+B).all() == (B+A).all() "
   ]
  },
  {
   "cell_type": "code",
   "execution_count": 4,
   "metadata": {},
   "outputs": [],
   "source": [
    "# Show  associative properts\n",
    "assert ((B+A)+C).all() == (B+(A+C)).all() "
   ]
  },
  {
   "cell_type": "code",
   "execution_count": 5,
   "metadata": {
    "scrolled": true
   },
   "outputs": [
    {
     "name": "stdout",
     "output_type": "stream",
     "text": [
      "C and D have different shapes and cannot be added\n"
     ]
    }
   ],
   "source": [
    "# Addition of two matrices with different shapes\n",
    "D = np.random.rand(2,3)\n",
    "C = np.random.rand(3,2)\n",
    "\n",
    "try: \n",
    "    C + D\n",
    "except:\n",
    "    print(\"C and D have different shapes and cannot be added\")"
   ]
  },
  {
   "cell_type": "markdown",
   "metadata": {},
   "source": [
    "The properties above come from the fact that order of addition doesn't matter.\n",
    "\n",
    "Note. Subtraction follows the same rules as addition."
   ]
  },
  {
   "cell_type": "markdown",
   "metadata": {},
   "source": [
    "## Matrix Scalar Multiplication\n",
    "\n",
    "Matrices can also be multiplied by scalars, because it's the same as adding "
   ]
  },
  {
   "cell_type": "code",
   "execution_count": 6,
   "metadata": {},
   "outputs": [
    {
     "data": {
      "text/plain": [
       "array([[2., 2.],\n",
       "       [2., 2.]])"
      ]
     },
     "execution_count": 6,
     "metadata": {},
     "output_type": "execute_result"
    }
   ],
   "source": [
    "# Multiply 1-matrix by scalar\n",
    "2 * np.ones((2,2))"
   ]
  },
  {
   "cell_type": "code",
   "execution_count": 7,
   "metadata": {},
   "outputs": [
    {
     "data": {
      "text/plain": [
       "array([[2., 2.],\n",
       "       [2., 2.]])"
      ]
     },
     "execution_count": 7,
     "metadata": {},
     "output_type": "execute_result"
    }
   ],
   "source": [
    "# We can see that it's the same as adding two one matrices\n",
    "np.ones((2,2)) + np.ones((2,2))"
   ]
  },
  {
   "cell_type": "markdown",
   "metadata": {},
   "source": [
    "Ofcourse, matrix scalar multiplation also follow the same rules as outlined above for associativity and communicativity."
   ]
  },
  {
   "cell_type": "markdown",
   "metadata": {},
   "source": [
    "## Diagonal and Trace\n",
    "\n",
    "One important component of a matrix are the values that lie on the diagonal. \n",
    "\n",
    "There are special functions in numpy that allow you to retrieve the diagonal of a matrix. (Note, a matrix must not be square in order to have a diagonal. They lie on the points $a_{ij}$ where $i = j$."
   ]
  },
  {
   "cell_type": "code",
   "execution_count": 13,
   "metadata": {},
   "outputs": [
    {
     "data": {
      "text/plain": [
       "array([0.85641343, 0.80080737, 0.00374232, 0.08367803])"
      ]
     },
     "execution_count": 13,
     "metadata": {},
     "output_type": "execute_result"
    }
   ],
   "source": [
    "# Diagonal of a 4x4 matrix\n",
    "A_4 = np.random.rand(4,4)\n",
    "\n",
    "A_4.diagonal()"
   ]
  },
  {
   "cell_type": "code",
   "execution_count": 10,
   "metadata": {},
   "outputs": [
    {
     "data": {
      "text/plain": [
       "array([0.90687198, 0.18390978, 0.22647717, 0.55689771])"
      ]
     },
     "execution_count": 10,
     "metadata": {},
     "output_type": "execute_result"
    }
   ],
   "source": [
    "# Doesn't need to be square\n",
    "np.random.rand(4,5).diagonal()"
   ]
  },
  {
   "cell_type": "markdown",
   "metadata": {},
   "source": [
    "The `trace` of a matrix is simply the sum of the vector created by $diag(M)$."
   ]
  },
  {
   "cell_type": "code",
   "execution_count": 18,
   "metadata": {},
   "outputs": [
    {
     "data": {
      "text/plain": [
       "True"
      ]
     },
     "execution_count": 18,
     "metadata": {},
     "output_type": "execute_result"
    }
   ],
   "source": [
    "# Finding the trace\n",
    "A_4.trace() == A_4.diagonal().sum()"
   ]
  }
 ],
 "metadata": {
  "kernelspec": {
   "display_name": "Python 3",
   "language": "python",
   "name": "python3"
  },
  "language_info": {
   "codemirror_mode": {
    "name": "ipython",
    "version": 3
   },
   "file_extension": ".py",
   "mimetype": "text/x-python",
   "name": "python",
   "nbconvert_exporter": "python",
   "pygments_lexer": "ipython3",
   "version": "3.7.2"
  }
 },
 "nbformat": 4,
 "nbformat_minor": 2
}
