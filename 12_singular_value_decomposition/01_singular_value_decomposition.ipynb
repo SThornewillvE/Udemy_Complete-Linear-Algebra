{
 "cells": [
  {
   "cell_type": "markdown",
   "metadata": {},
   "source": [
    "# Singular Value Decomposition\n",
    "\n",
    "We've seen eigendecomposition for square matrices but it is worth noting that not all matrices are square. What do we do in this instance?\n",
    "\n",
    "Well, there is the singular value decomposition which takes the following form:\n",
    "\n",
    "$$A = U \\Sigma V^T$$\n",
    "\n",
    "Where $U$ is an orthonormal matrix containing the basis for the eigenvectors that span the column space of A, $V$ contains the orthonormal basis for the row space of A and Sigma contains singular values combining the two.\n",
    "\n",
    "How do we calculate it? By taking the eigendecompositions of $A^TA$ and $AA^T$\n",
    "\n",
    "$$A^TA = (U \\Sigma V^T)^T U \\Sigma V^T$$\n",
    "$$A^TA = V \\Sigma U^T U \\Sigma V^T$$\n",
    "$$A^TA = V\\Sigma^2 V^T$$\n",
    "\n",
    "Note that since V^T is orthonormal, $V^T = V^{-1}$. Thus the singular value matrix is the square root of the eigenvalue diagonal Matrix (D).\n",
    "\n",
    "If we do the same for $AA^T$, we get $A^TA = U\\Sigma^2 U^T$.\n",
    "\n",
    "Thus, we can combine the pieces to create the SVD."
   ]
  },
  {
   "cell_type": "code",
   "execution_count": null,
   "metadata": {},
   "outputs": [],
   "source": []
  }
 ],
 "metadata": {
  "kernelspec": {
   "display_name": "Python 3",
   "language": "python",
   "name": "python3"
  },
  "language_info": {
   "codemirror_mode": {
    "name": "ipython",
    "version": 3
   },
   "file_extension": ".py",
   "mimetype": "text/x-python",
   "name": "python",
   "nbconvert_exporter": "python",
   "pygments_lexer": "ipython3",
   "version": "3.7.1"
  }
 },
 "nbformat": 4,
 "nbformat_minor": 2
}
